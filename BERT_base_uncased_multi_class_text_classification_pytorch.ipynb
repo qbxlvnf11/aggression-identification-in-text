{
 "cells": [
  {
   "cell_type": "markdown",
   "metadata": {},
   "source": [
    "# Setup"
   ]
  },
  {
   "cell_type": "code",
   "execution_count": 1,
   "metadata": {},
   "outputs": [],
   "source": [
    "# pip install pytorch_pretrained_bert pytorch-nlp"
   ]
  },
  {
   "cell_type": "code",
   "execution_count": null,
   "metadata": {},
   "outputs": [],
   "source": [
    "import sys\n",
    "import numpy as np\n",
    "import random as rn\n",
    "import torch\n",
    "from pytorch_pretrained_bert import BertModel\n",
    "from torch import nn\n",
    "from pytorch_pretrained_bert import BertTokenizer\n",
    "from torch.utils.data import TensorDataset, DataLoader, RandomSampler, SequentialSampler\n",
    "from torch.optim import Adam\n",
    "from torch.nn.utils import clip_grad_norm_\n",
    "from IPython.display import clear_output"
   ]
  },
  {
   "cell_type": "code",
   "execution_count": 3,
   "metadata": {},
   "outputs": [],
   "source": [
    "rn.seed(10)\n",
    "np.random.seed(10)\n",
    "torch.manual_seed(10)\n",
    "torch.cuda.manual_seed(10)"
   ]
  },
  {
   "cell_type": "markdown",
   "metadata": {},
   "source": [
    "# News Aggregator Dataset"
   ]
  },
  {
   "cell_type": "code",
   "execution_count": 4,
   "metadata": {},
   "outputs": [],
   "source": [
    "import numpy as np\n",
    "import pandas as pd\n",
    "import matplotlib.pyplot as plt\n",
    "\n",
    "import keras\n",
    "import tensorflow as tf\n",
    "\n",
    "# keras: for data processing\n",
    "from tensorflow.keras.preprocessing.sequence import pad_sequences\n",
    "from keras.utils.np_utils import to_categorical"
   ]
  },
  {
   "cell_type": "code",
   "execution_count": 5,
   "metadata": {},
   "outputs": [],
   "source": [
    "train_data_path = './data/trac-1/english/agr_en_train.csv' # Path of data\n",
    "valid_data_path = './data/trac-1/english/agr_en_dev.csv' # Path of data"
   ]
  },
  {
   "cell_type": "code",
   "execution_count": 6,
   "metadata": {},
   "outputs": [
    {
     "name": "stdout",
     "output_type": "stream",
     "text": [
      "Column of df: ['TEXT', 'AGGRESSION_CLASS']\n",
      "Size of data: 12000\n"
     ]
    },
    {
     "data": {
      "text/html": [
       "<div>\n",
       "<style scoped>\n",
       "    .dataframe tbody tr th:only-of-type {\n",
       "        vertical-align: middle;\n",
       "    }\n",
       "\n",
       "    .dataframe tbody tr th {\n",
       "        vertical-align: top;\n",
       "    }\n",
       "\n",
       "    .dataframe thead th {\n",
       "        text-align: right;\n",
       "    }\n",
       "</style>\n",
       "<table border=\"1\" class=\"dataframe\">\n",
       "  <thead>\n",
       "    <tr style=\"text-align: right;\">\n",
       "      <th></th>\n",
       "      <th>TEXT</th>\n",
       "      <th>AGGRESSION_CLASS</th>\n",
       "    </tr>\n",
       "  </thead>\n",
       "  <tbody>\n",
       "    <tr>\n",
       "      <th>0</th>\n",
       "      <td>Well said sonu..you have courage to stand agai...</td>\n",
       "      <td>OAG</td>\n",
       "    </tr>\n",
       "    <tr>\n",
       "      <th>1</th>\n",
       "      <td>Most of Private Banks ATM's Like HDFC, ICICI e...</td>\n",
       "      <td>NAG</td>\n",
       "    </tr>\n",
       "    <tr>\n",
       "      <th>2</th>\n",
       "      <td>Now question is, Pakistan will adhere to this?</td>\n",
       "      <td>OAG</td>\n",
       "    </tr>\n",
       "    <tr>\n",
       "      <th>3</th>\n",
       "      <td>Pakistan is comprised of fake muslims who does...</td>\n",
       "      <td>OAG</td>\n",
       "    </tr>\n",
       "    <tr>\n",
       "      <th>4</th>\n",
       "      <td>??we r against cow slaughter,so of course it w...</td>\n",
       "      <td>NAG</td>\n",
       "    </tr>\n",
       "  </tbody>\n",
       "</table>\n",
       "</div>"
      ],
      "text/plain": [
       "                                                TEXT AGGRESSION_CLASS\n",
       "0  Well said sonu..you have courage to stand agai...              OAG\n",
       "1  Most of Private Banks ATM's Like HDFC, ICICI e...              NAG\n",
       "2     Now question is, Pakistan will adhere to this?              OAG\n",
       "3  Pakistan is comprised of fake muslims who does...              OAG\n",
       "4  ??we r against cow slaughter,so of course it w...              NAG"
      ]
     },
     "execution_count": 6,
     "metadata": {},
     "output_type": "execute_result"
    }
   ],
   "source": [
    "# Train\n",
    "train_df = pd.read_csv(train_data_path, names = ['SOURCE', 'TEXT', 'AGGRESSION_CLASS'], \n",
    "                   usecols=['TEXT', 'AGGRESSION_CLASS'])\n",
    "print('Column of df:', list(train_df))\n",
    "print('Size of data:', len(train_df))\n",
    "train_df.head()"
   ]
  },
  {
   "cell_type": "code",
   "execution_count": 7,
   "metadata": {},
   "outputs": [],
   "source": [
    "train_df = train_df.reindex(np.random.permutation(train_df.index))"
   ]
  },
  {
   "cell_type": "code",
   "execution_count": 8,
   "metadata": {},
   "outputs": [
    {
     "data": {
      "text/plain": [
       "(12000, 2)"
      ]
     },
     "execution_count": 8,
     "metadata": {},
     "output_type": "execute_result"
    }
   ],
   "source": [
    "train_df.shape"
   ]
  },
  {
   "cell_type": "code",
   "execution_count": 9,
   "metadata": {},
   "outputs": [
    {
     "data": {
      "text/html": [
       "<div>\n",
       "<style scoped>\n",
       "    .dataframe tbody tr th:only-of-type {\n",
       "        vertical-align: middle;\n",
       "    }\n",
       "\n",
       "    .dataframe tbody tr th {\n",
       "        vertical-align: top;\n",
       "    }\n",
       "\n",
       "    .dataframe thead th {\n",
       "        text-align: right;\n",
       "    }\n",
       "</style>\n",
       "<table border=\"1\" class=\"dataframe\">\n",
       "  <thead>\n",
       "    <tr style=\"text-align: right;\">\n",
       "      <th></th>\n",
       "      <th>TEXT</th>\n",
       "      <th>AGGRESSION_CLASS</th>\n",
       "    </tr>\n",
       "  </thead>\n",
       "  <tbody>\n",
       "    <tr>\n",
       "      <th>4090</th>\n",
       "      <td>this fellow has lost his mind completely, cant...</td>\n",
       "      <td>OAG</td>\n",
       "    </tr>\n",
       "    <tr>\n",
       "      <th>10178</th>\n",
       "      <td>He is Rajput  DNA  👍    just wait and see bro ...</td>\n",
       "      <td>NAG</td>\n",
       "    </tr>\n",
       "    <tr>\n",
       "      <th>2855</th>\n",
       "      <td>Paul Manish ask ur mom who's ur father he's a ...</td>\n",
       "      <td>OAG</td>\n",
       "    </tr>\n",
       "    <tr>\n",
       "      <th>4338</th>\n",
       "      <td>Good</td>\n",
       "      <td>NAG</td>\n",
       "    </tr>\n",
       "    <tr>\n",
       "      <th>4035</th>\n",
       "      <td>JNU deserves it at present because students pr...</td>\n",
       "      <td>CAG</td>\n",
       "    </tr>\n",
       "    <tr>\n",
       "      <th>11604</th>\n",
       "      <td>Though JP is promising to give flats in 1-2 ye...</td>\n",
       "      <td>NAG</td>\n",
       "    </tr>\n",
       "    <tr>\n",
       "      <th>3431</th>\n",
       "      <td>Its a great effort by the poor people who need...</td>\n",
       "      <td>CAG</td>\n",
       "    </tr>\n",
       "    <tr>\n",
       "      <th>3275</th>\n",
       "      <td>i too dont want oil at $80 but junk bund of oi...</td>\n",
       "      <td>NAG</td>\n",
       "    </tr>\n",
       "    <tr>\n",
       "      <th>6351</th>\n",
       "      <td>Guarav K they are so brainwashed, that they ca...</td>\n",
       "      <td>CAG</td>\n",
       "    </tr>\n",
       "    <tr>\n",
       "      <th>1877</th>\n",
       "      <td>What about the block money with big people viz...</td>\n",
       "      <td>CAG</td>\n",
       "    </tr>\n",
       "    <tr>\n",
       "      <th>8444</th>\n",
       "      <td>RSS favour for India , India favour for all re...</td>\n",
       "      <td>NAG</td>\n",
       "    </tr>\n",
       "    <tr>\n",
       "      <th>878</th>\n",
       "      <td>Killing of any human in any form is never comf...</td>\n",
       "      <td>NAG</td>\n",
       "    </tr>\n",
       "    <tr>\n",
       "      <th>8499</th>\n",
       "      <td>Hahaha what waste of money, Govt should invest...</td>\n",
       "      <td>NAG</td>\n",
       "    </tr>\n",
       "    <tr>\n",
       "      <th>131</th>\n",
       "      <td>But it's a big decision and TATA need to clear...</td>\n",
       "      <td>NAG</td>\n",
       "    </tr>\n",
       "    <tr>\n",
       "      <th>4918</th>\n",
       "      <td>Love the way she carries her dress in attitude...</td>\n",
       "      <td>NAG</td>\n",
       "    </tr>\n",
       "    <tr>\n",
       "      <th>4461</th>\n",
       "      <td>Everybody say Voice of \"Sonu Nigam\" is Gift of...</td>\n",
       "      <td>OAG</td>\n",
       "    </tr>\n",
       "    <tr>\n",
       "      <th>8093</th>\n",
       "      <td>What else can you expect from criminal RSS,BJP...</td>\n",
       "      <td>CAG</td>\n",
       "    </tr>\n",
       "    <tr>\n",
       "      <th>896</th>\n",
       "      <td>💢 Bot User 💢 Xingh Kannu 💢\\n\\n ♥PYTHON♥BOT♥TEA...</td>\n",
       "      <td>NAG</td>\n",
       "    </tr>\n",
       "    <tr>\n",
       "      <th>445</th>\n",
       "      <td>Aishwarya Hari Haran because it does not have ...</td>\n",
       "      <td>NAG</td>\n",
       "    </tr>\n",
       "    <tr>\n",
       "      <th>2481</th>\n",
       "      <td>Wait n  watch  till May 2019  will get the  po...</td>\n",
       "      <td>CAG</td>\n",
       "    </tr>\n",
       "  </tbody>\n",
       "</table>\n",
       "</div>"
      ],
      "text/plain": [
       "                                                    TEXT AGGRESSION_CLASS\n",
       "4090   this fellow has lost his mind completely, cant...              OAG\n",
       "10178  He is Rajput  DNA  👍    just wait and see bro ...              NAG\n",
       "2855   Paul Manish ask ur mom who's ur father he's a ...              OAG\n",
       "4338                                                Good              NAG\n",
       "4035   JNU deserves it at present because students pr...              CAG\n",
       "11604  Though JP is promising to give flats in 1-2 ye...              NAG\n",
       "3431   Its a great effort by the poor people who need...              CAG\n",
       "3275   i too dont want oil at $80 but junk bund of oi...              NAG\n",
       "6351   Guarav K they are so brainwashed, that they ca...              CAG\n",
       "1877   What about the block money with big people viz...              CAG\n",
       "8444   RSS favour for India , India favour for all re...              NAG\n",
       "878    Killing of any human in any form is never comf...              NAG\n",
       "8499   Hahaha what waste of money, Govt should invest...              NAG\n",
       "131    But it's a big decision and TATA need to clear...              NAG\n",
       "4918   Love the way she carries her dress in attitude...              NAG\n",
       "4461   Everybody say Voice of \"Sonu Nigam\" is Gift of...              OAG\n",
       "8093   What else can you expect from criminal RSS,BJP...              CAG\n",
       "896    💢 Bot User 💢 Xingh Kannu 💢\\n\\n ♥PYTHON♥BOT♥TEA...              NAG\n",
       "445    Aishwarya Hari Haran because it does not have ...              NAG\n",
       "2481   Wait n  watch  till May 2019  will get the  po...              CAG"
      ]
     },
     "execution_count": 9,
     "metadata": {},
     "output_type": "execute_result"
    }
   ],
   "source": [
    "train_df.head(20)"
   ]
  },
  {
   "cell_type": "code",
   "execution_count": 10,
   "metadata": {},
   "outputs": [],
   "source": [
    "# data slicing\n",
    "num_of_categories = 12500\n",
    "shuffled = train_df.reindex(np.random.permutation(train_df.index))\n",
    "\n",
    "CAG = shuffled[shuffled['AGGRESSION_CLASS'] == 'CAG']#[:num_of_categories]\n",
    "OAG = shuffled[shuffled['AGGRESSION_CLASS'] == 'OAG']#[:num_of_categories]\n",
    "NAG = shuffled[shuffled['AGGRESSION_CLASS'] == 'NAG']#[:num_of_categories]\n",
    "\n",
    "concated = pd.concat([CAG, OAG, NAG], ignore_index=True)"
   ]
  },
  {
   "cell_type": "code",
   "execution_count": 11,
   "metadata": {},
   "outputs": [],
   "source": [
    "# label col\n",
    "concated['LABEL'] = 0"
   ]
  },
  {
   "cell_type": "code",
   "execution_count": 12,
   "metadata": {},
   "outputs": [],
   "source": [
    "np.random.seed(41)\n",
    "concated = concated.reindex(np.random.permutation(concated.index))\n",
    "\n",
    "concated.loc[concated['AGGRESSION_CLASS'] == 'CAG', 'LABEL'] = 0\n",
    "concated.loc[concated['AGGRESSION_CLASS'] == 'OAG', 'LABEL'] = 1\n",
    "concated.loc[concated['AGGRESSION_CLASS'] == 'NAG', 'LABEL'] = 2"
   ]
  },
  {
   "cell_type": "code",
   "execution_count": 13,
   "metadata": {},
   "outputs": [
    {
     "data": {
      "text/plain": [
       "9230    2\n",
       "3417    0\n",
       "5996    1\n",
       "1813    0\n",
       "1307    0\n",
       "8169    2\n",
       "7666    2\n",
       "2436    0\n",
       "7442    2\n",
       "1169    0\n",
       "Name: LABEL, dtype: int64"
      ]
     },
     "execution_count": 13,
     "metadata": {},
     "output_type": "execute_result"
    }
   ],
   "source": [
    "concated['LABEL'][:10]"
   ]
  },
  {
   "cell_type": "code",
   "execution_count": 14,
   "metadata": {},
   "outputs": [],
   "source": [
    "# one-hot encoding\n",
    "labels = to_categorical(concated['LABEL'], num_classes=3)"
   ]
  },
  {
   "cell_type": "code",
   "execution_count": 15,
   "metadata": {},
   "outputs": [
    {
     "data": {
      "text/plain": [
       "array([[0., 0., 1.],\n",
       "       [1., 0., 0.],\n",
       "       [0., 1., 0.],\n",
       "       ...,\n",
       "       [1., 0., 0.],\n",
       "       [1., 0., 0.],\n",
       "       [1., 0., 0.]], dtype=float32)"
      ]
     },
     "execution_count": 15,
     "metadata": {},
     "output_type": "execute_result"
    }
   ],
   "source": [
    "labels"
   ]
  },
  {
   "cell_type": "markdown",
   "metadata": {},
   "source": [
    "# BERT Tokenizer"
   ]
  },
  {
   "cell_type": "code",
   "execution_count": 16,
   "metadata": {},
   "outputs": [],
   "source": [
    "word_max_len = 64"
   ]
  },
  {
   "cell_type": "code",
   "execution_count": 17,
   "metadata": {},
   "outputs": [],
   "source": [
    "tokenizer = BertTokenizer.from_pretrained('bert-base-uncased', do_lower_case=True)"
   ]
  },
  {
   "cell_type": "code",
   "execution_count": 18,
   "metadata": {},
   "outputs": [
    {
     "data": {
      "text/plain": [
       "array(['Buy JAYBARMARU (Nse code- 1708) @ 363 targets 410 within a month probably.',\n",
       "       \"Hello. It's not the link that is the problem, it's the RBI site itself. Hopefully should be back soon.\",\n",
       "       'Anna is sounding like an opportunist. At least Arvind has stuck to what he started and has created a government and trying to do something constructive.'],\n",
       "      dtype=object)"
      ]
     },
     "execution_count": 18,
     "metadata": {},
     "output_type": "execute_result"
    }
   ],
   "source": [
    " concated['TEXT'].values[:3]"
   ]
  },
  {
   "cell_type": "code",
   "execution_count": 19,
   "metadata": {},
   "outputs": [],
   "source": [
    "tokens = list(map(lambda t: ['[CLS]'] + tokenizer.tokenize(t) + ['[SEP]'], concated['TEXT'].values))"
   ]
  },
  {
   "cell_type": "code",
   "execution_count": 20,
   "metadata": {},
   "outputs": [
    {
     "data": {
      "text/plain": [
       "[['[CLS]',\n",
       "  'buy',\n",
       "  'jay',\n",
       "  '##bar',\n",
       "  '##mar',\n",
       "  '##u',\n",
       "  '(',\n",
       "  'ns',\n",
       "  '##e',\n",
       "  'code',\n",
       "  '-',\n",
       "  '1708',\n",
       "  ')',\n",
       "  '@',\n",
       "  '36',\n",
       "  '##3',\n",
       "  'targets',\n",
       "  '410',\n",
       "  'within',\n",
       "  'a',\n",
       "  'month',\n",
       "  'probably',\n",
       "  '.',\n",
       "  '[SEP]'],\n",
       " ['[CLS]',\n",
       "  'hello',\n",
       "  '.',\n",
       "  'it',\n",
       "  \"'\",\n",
       "  's',\n",
       "  'not',\n",
       "  'the',\n",
       "  'link',\n",
       "  'that',\n",
       "  'is',\n",
       "  'the',\n",
       "  'problem',\n",
       "  ',',\n",
       "  'it',\n",
       "  \"'\",\n",
       "  's',\n",
       "  'the',\n",
       "  'rbi',\n",
       "  'site',\n",
       "  'itself',\n",
       "  '.',\n",
       "  'hopefully',\n",
       "  'should',\n",
       "  'be',\n",
       "  'back',\n",
       "  'soon',\n",
       "  '.',\n",
       "  '[SEP]'],\n",
       " ['[CLS]',\n",
       "  'anna',\n",
       "  'is',\n",
       "  'sounding',\n",
       "  'like',\n",
       "  'an',\n",
       "  'op',\n",
       "  '##port',\n",
       "  '##uni',\n",
       "  '##st',\n",
       "  '.',\n",
       "  'at',\n",
       "  'least',\n",
       "  'ar',\n",
       "  '##vin',\n",
       "  '##d',\n",
       "  'has',\n",
       "  'stuck',\n",
       "  'to',\n",
       "  'what',\n",
       "  'he',\n",
       "  'started',\n",
       "  'and',\n",
       "  'has',\n",
       "  'created',\n",
       "  'a',\n",
       "  'government',\n",
       "  'and',\n",
       "  'trying',\n",
       "  'to',\n",
       "  'do',\n",
       "  'something',\n",
       "  'constructive',\n",
       "  '.',\n",
       "  '[SEP]']]"
      ]
     },
     "execution_count": 20,
     "metadata": {},
     "output_type": "execute_result"
    }
   ],
   "source": [
    "tokens[:3]"
   ]
  },
  {
   "cell_type": "code",
   "execution_count": 21,
   "metadata": {},
   "outputs": [
    {
     "name": "stderr",
     "output_type": "stream",
     "text": [
      "Token indices sequence length is longer than the specified maximum  sequence length for this BERT model (787 > 512). Running this sequence through BERT will result in indexing errors\n",
      "Token indices sequence length is longer than the specified maximum  sequence length for this BERT model (1103 > 512). Running this sequence through BERT will result in indexing errors\n",
      "Token indices sequence length is longer than the specified maximum  sequence length for this BERT model (786 > 512). Running this sequence through BERT will result in indexing errors\n",
      "Token indices sequence length is longer than the specified maximum  sequence length for this BERT model (665 > 512). Running this sequence through BERT will result in indexing errors\n",
      "Token indices sequence length is longer than the specified maximum  sequence length for this BERT model (602 > 512). Running this sequence through BERT will result in indexing errors\n",
      "Token indices sequence length is longer than the specified maximum  sequence length for this BERT model (742 > 512). Running this sequence through BERT will result in indexing errors\n",
      "Token indices sequence length is longer than the specified maximum  sequence length for this BERT model (598 > 512). Running this sequence through BERT will result in indexing errors\n",
      "Token indices sequence length is longer than the specified maximum  sequence length for this BERT model (699 > 512). Running this sequence through BERT will result in indexing errors\n",
      "Token indices sequence length is longer than the specified maximum  sequence length for this BERT model (1651 > 512). Running this sequence through BERT will result in indexing errors\n",
      "Token indices sequence length is longer than the specified maximum  sequence length for this BERT model (724 > 512). Running this sequence through BERT will result in indexing errors\n",
      "Token indices sequence length is longer than the specified maximum  sequence length for this BERT model (593 > 512). Running this sequence through BERT will result in indexing errors\n",
      "Token indices sequence length is longer than the specified maximum  sequence length for this BERT model (616 > 512). Running this sequence through BERT will result in indexing errors\n",
      "Token indices sequence length is longer than the specified maximum  sequence length for this BERT model (763 > 512). Running this sequence through BERT will result in indexing errors\n",
      "Token indices sequence length is longer than the specified maximum  sequence length for this BERT model (686 > 512). Running this sequence through BERT will result in indexing errors\n",
      "Token indices sequence length is longer than the specified maximum  sequence length for this BERT model (782 > 512). Running this sequence through BERT will result in indexing errors\n",
      "Token indices sequence length is longer than the specified maximum  sequence length for this BERT model (762 > 512). Running this sequence through BERT will result in indexing errors\n",
      "Token indices sequence length is longer than the specified maximum  sequence length for this BERT model (840 > 512). Running this sequence through BERT will result in indexing errors\n",
      "Token indices sequence length is longer than the specified maximum  sequence length for this BERT model (698 > 512). Running this sequence through BERT will result in indexing errors\n",
      "Token indices sequence length is longer than the specified maximum  sequence length for this BERT model (1547 > 512). Running this sequence through BERT will result in indexing errors\n",
      "Token indices sequence length is longer than the specified maximum  sequence length for this BERT model (611 > 512). Running this sequence through BERT will result in indexing errors\n",
      "Token indices sequence length is longer than the specified maximum  sequence length for this BERT model (1147 > 512). Running this sequence through BERT will result in indexing errors\n",
      "Token indices sequence length is longer than the specified maximum  sequence length for this BERT model (1164 > 512). Running this sequence through BERT will result in indexing errors\n",
      "Token indices sequence length is longer than the specified maximum  sequence length for this BERT model (541 > 512). Running this sequence through BERT will result in indexing errors\n",
      "Token indices sequence length is longer than the specified maximum  sequence length for this BERT model (642 > 512). Running this sequence through BERT will result in indexing errors\n"
     ]
    }
   ],
   "source": [
    "tokens_ids = pad_sequences(list(map(tokenizer.convert_tokens_to_ids, tokens)), maxlen=word_max_len, truncating=\"post\", padding=\"post\", dtype=\"int\")"
   ]
  },
  {
   "cell_type": "code",
   "execution_count": 22,
   "metadata": {},
   "outputs": [
    {
     "data": {
      "text/plain": [
       "(12000, 64)"
      ]
     },
     "execution_count": 22,
     "metadata": {},
     "output_type": "execute_result"
    }
   ],
   "source": [
    "tokens_ids.shape"
   ]
  },
  {
   "cell_type": "code",
   "execution_count": 23,
   "metadata": {
    "scrolled": true
   },
   "outputs": [
    {
     "data": {
      "text/plain": [
       "array([[  101,  4965,  6108,  8237,  7849,  2226,  1006, 24978,  2063,\n",
       "         3642,  1011, 27337,  1007,  1030,  4029,  2509,  7889, 19151,\n",
       "         2306,  1037,  3204,  2763,  1012,   102,     0,     0,     0,\n",
       "            0,     0,     0,     0,     0,     0,     0,     0,     0,\n",
       "            0,     0,     0,     0,     0,     0,     0,     0,     0,\n",
       "            0,     0,     0,     0,     0,     0,     0,     0,     0,\n",
       "            0,     0,     0,     0,     0,     0,     0,     0,     0,\n",
       "            0]])"
      ]
     },
     "execution_count": 23,
     "metadata": {},
     "output_type": "execute_result"
    }
   ],
   "source": [
    "tokens_ids[:1]"
   ]
  },
  {
   "cell_type": "code",
   "execution_count": 24,
   "metadata": {},
   "outputs": [],
   "source": [
    "masks = [[float(i > 0) for i in ii] for ii in tokens_ids]"
   ]
  },
  {
   "cell_type": "code",
   "execution_count": 25,
   "metadata": {
    "scrolled": true
   },
   "outputs": [
    {
     "data": {
      "text/plain": [
       "[[1.0,\n",
       "  1.0,\n",
       "  1.0,\n",
       "  1.0,\n",
       "  1.0,\n",
       "  1.0,\n",
       "  1.0,\n",
       "  1.0,\n",
       "  1.0,\n",
       "  1.0,\n",
       "  1.0,\n",
       "  1.0,\n",
       "  1.0,\n",
       "  1.0,\n",
       "  1.0,\n",
       "  1.0,\n",
       "  1.0,\n",
       "  1.0,\n",
       "  1.0,\n",
       "  1.0,\n",
       "  1.0,\n",
       "  1.0,\n",
       "  1.0,\n",
       "  1.0,\n",
       "  0.0,\n",
       "  0.0,\n",
       "  0.0,\n",
       "  0.0,\n",
       "  0.0,\n",
       "  0.0,\n",
       "  0.0,\n",
       "  0.0,\n",
       "  0.0,\n",
       "  0.0,\n",
       "  0.0,\n",
       "  0.0,\n",
       "  0.0,\n",
       "  0.0,\n",
       "  0.0,\n",
       "  0.0,\n",
       "  0.0,\n",
       "  0.0,\n",
       "  0.0,\n",
       "  0.0,\n",
       "  0.0,\n",
       "  0.0,\n",
       "  0.0,\n",
       "  0.0,\n",
       "  0.0,\n",
       "  0.0,\n",
       "  0.0,\n",
       "  0.0,\n",
       "  0.0,\n",
       "  0.0,\n",
       "  0.0,\n",
       "  0.0,\n",
       "  0.0,\n",
       "  0.0,\n",
       "  0.0,\n",
       "  0.0,\n",
       "  0.0,\n",
       "  0.0,\n",
       "  0.0,\n",
       "  0.0]]"
      ]
     },
     "execution_count": 25,
     "metadata": {},
     "output_type": "execute_result"
    }
   ],
   "source": [
    "masks[:1]"
   ]
  },
  {
   "cell_type": "markdown",
   "metadata": {},
   "source": [
    "# BERT Baseline"
   ]
  },
  {
   "cell_type": "code",
   "execution_count": 26,
   "metadata": {},
   "outputs": [],
   "source": [
    "class BertClassifier(nn.Module):\n",
    "    def __init__(self, dropout=0.1):\n",
    "        super(BertClassifier, self).__init__()\n",
    "\n",
    "        self.bert = BertModel.from_pretrained('bert-base-uncased')\n",
    "\n",
    "        self.dropout = nn.Dropout(dropout)\n",
    "        self.linear = nn.Linear(768, 3)\n",
    "        self.sigmoid = nn.Sigmoid()\n",
    "        self.softmax = nn.Softmax()\n",
    "    \n",
    "    def forward(self, tokens, masks=None):\n",
    "        _, pooled_output = self.bert(tokens, attention_mask=masks, output_all_encoded_layers=False)\n",
    "        dropout_output = self.dropout(pooled_output)\n",
    "        linear_output = self.linear(dropout_output)\n",
    "#         proba = self.sigmoid(linear_output)\n",
    "        proba = self.softmax(linear_output)\n",
    "        return proba"
   ]
  },
  {
   "cell_type": "code",
   "execution_count": 27,
   "metadata": {},
   "outputs": [],
   "source": [
    "device = torch.device(\"cuda\" if torch.cuda.is_available() else \"cpu\")"
   ]
  },
  {
   "cell_type": "code",
   "execution_count": 28,
   "metadata": {},
   "outputs": [
    {
     "data": {
      "text/plain": [
       "device(type='cuda')"
      ]
     },
     "execution_count": 28,
     "metadata": {},
     "output_type": "execute_result"
    }
   ],
   "source": [
    "device"
   ]
  },
  {
   "cell_type": "code",
   "execution_count": 29,
   "metadata": {},
   "outputs": [
    {
     "data": {
      "text/plain": [
       "'0.0M'"
      ]
     },
     "execution_count": 29,
     "metadata": {},
     "output_type": "execute_result"
    }
   ],
   "source": [
    "str(torch.cuda.memory_allocated(device)/1000000 ) + 'M'"
   ]
  },
  {
   "cell_type": "code",
   "execution_count": 30,
   "metadata": {},
   "outputs": [],
   "source": [
    "bert_clf = BertClassifier()"
   ]
  },
  {
   "cell_type": "code",
   "execution_count": 31,
   "metadata": {},
   "outputs": [],
   "source": [
    "bert_clf = bert_clf.cuda()"
   ]
  },
  {
   "cell_type": "code",
   "execution_count": 32,
   "metadata": {},
   "outputs": [
    {
     "data": {
      "text/plain": [
       "'439.071232M'"
      ]
     },
     "execution_count": 32,
     "metadata": {},
     "output_type": "execute_result"
    }
   ],
   "source": [
    "str(torch.cuda.memory_allocated(device)/1000000 ) + 'M'"
   ]
  },
  {
   "cell_type": "code",
   "execution_count": 33,
   "metadata": {},
   "outputs": [],
   "source": [
    "x = torch.tensor(tokens_ids[:3]).to(device)\n",
    "y, pooled = bert_clf.bert(x, output_all_encoded_layers=False)"
   ]
  },
  {
   "cell_type": "code",
   "execution_count": 34,
   "metadata": {},
   "outputs": [
    {
     "data": {
      "text/plain": [
       "(torch.Size([3, 64]), torch.Size([3, 64, 768]), torch.Size([3, 768]))"
      ]
     },
     "execution_count": 34,
     "metadata": {},
     "output_type": "execute_result"
    }
   ],
   "source": [
    "x.shape, y.shape, pooled.shape"
   ]
  },
  {
   "cell_type": "code",
   "execution_count": 35,
   "metadata": {},
   "outputs": [
    {
     "data": {
      "text/plain": [
       "tensor([[  101,  4965,  6108,  8237,  7849,  2226,  1006, 24978,  2063,  3642,\n",
       "          1011, 27337,  1007,  1030,  4029,  2509,  7889, 19151,  2306,  1037,\n",
       "          3204,  2763,  1012,   102,     0,     0,     0,     0,     0,     0,\n",
       "             0,     0,     0,     0,     0,     0,     0,     0,     0,     0,\n",
       "             0,     0,     0,     0,     0,     0,     0,     0,     0,     0,\n",
       "             0,     0,     0,     0,     0,     0,     0,     0,     0,     0,\n",
       "             0,     0,     0,     0],\n",
       "        [  101,  7592,  1012,  2009,  1005,  1055,  2025,  1996,  4957,  2008,\n",
       "          2003,  1996,  3291,  1010,  2009,  1005,  1055,  1996, 16929,  2609,\n",
       "          2993,  1012, 11504,  2323,  2022,  2067,  2574,  1012,   102,     0,\n",
       "             0,     0,     0,     0,     0,     0,     0,     0,     0,     0,\n",
       "             0,     0,     0,     0,     0,     0,     0,     0,     0,     0,\n",
       "             0,     0,     0,     0,     0,     0,     0,     0,     0,     0,\n",
       "             0,     0,     0,     0],\n",
       "        [  101,  4698,  2003,  9391,  2066,  2019,  6728,  6442, 19496,  3367,\n",
       "          1012,  2012,  2560, 12098,  6371,  2094,  2038,  5881,  2000,  2054,\n",
       "          2002,  2318,  1998,  2038,  2580,  1037,  2231,  1998,  2667,  2000,\n",
       "          2079,  2242, 26157,  1012,   102,     0,     0,     0,     0,     0,\n",
       "             0,     0,     0,     0,     0,     0,     0,     0,     0,     0,\n",
       "             0,     0,     0,     0,     0,     0,     0,     0,     0,     0,\n",
       "             0,     0,     0,     0]], device='cuda:0')"
      ]
     },
     "execution_count": 35,
     "metadata": {},
     "output_type": "execute_result"
    }
   ],
   "source": [
    "x"
   ]
  },
  {
   "cell_type": "code",
   "execution_count": 36,
   "metadata": {},
   "outputs": [
    {
     "data": {
      "text/plain": [
       "tensor([[[-0.1109,  0.2057,  0.3847,  ..., -0.3044,  0.4924, -0.4941],\n",
       "         [ 0.8200, -0.5331,  0.8024,  ..., -0.1300,  0.7983, -0.4020],\n",
       "         [ 0.3769, -0.6173,  0.2439,  ..., -0.0659,  0.0816, -0.6694],\n",
       "         ...,\n",
       "         [ 0.4121, -0.2074,  0.8656,  ..., -0.7528,  0.1719, -0.9573],\n",
       "         [ 0.4179, -0.0138,  1.1296,  ..., -0.6530, -0.1895, -1.3284],\n",
       "         [ 0.6001, -0.4022,  0.9035,  ..., -0.4683,  0.0647, -1.1612]],\n",
       "\n",
       "        [[-0.2768,  0.1752,  0.1537,  ..., -0.2207,  0.5238, -0.2874],\n",
       "         [ 0.2061, -0.0522,  0.1848,  ...,  0.2871,  0.4584,  0.1021],\n",
       "         [-0.5190, -0.0374,  0.3498,  ...,  0.3148,  0.4632, -0.1717],\n",
       "         ...,\n",
       "         [ 0.6811, -0.1454,  0.8159,  ..., -0.4920,  0.0283, -0.5419],\n",
       "         [ 0.5164,  0.0925,  0.9959,  ..., -0.7448,  0.2029, -1.3671],\n",
       "         [ 0.3714,  0.1585,  0.9605,  ..., -0.9843,  0.1680, -1.0755]],\n",
       "\n",
       "        [[-0.2678,  0.2753,  0.4284,  ..., -0.0191,  0.5713, -0.1900],\n",
       "         [-0.3718, -0.3010, -0.0020,  ...,  0.1748,  0.6296, -0.5104],\n",
       "         [ 0.1402,  0.1707, -0.1535,  ...,  0.3733,  0.3199,  0.4252],\n",
       "         ...,\n",
       "         [ 0.5653, -0.0426,  0.9666,  ..., -0.5674,  0.2344, -0.6511],\n",
       "         [ 0.8229, -0.3462,  1.6371,  ..., -0.5823,  0.2793, -0.9557],\n",
       "         [ 0.4995, -0.1143,  1.0846,  ..., -0.8795,  0.3414, -1.8243]]],\n",
       "       device='cuda:0', grad_fn=<AddBackward0>)"
      ]
     },
     "execution_count": 36,
     "metadata": {},
     "output_type": "execute_result"
    }
   ],
   "source": [
    "y"
   ]
  },
  {
   "cell_type": "code",
   "execution_count": 37,
   "metadata": {},
   "outputs": [
    {
     "data": {
      "text/plain": [
       "tensor([[-0.4451, -0.4274, -0.9588,  ..., -0.7033, -0.4637,  0.5934],\n",
       "        [-0.5884, -0.5152, -0.9789,  ..., -0.8271, -0.5875,  0.5919],\n",
       "        [-0.5148, -0.4912, -0.9565,  ..., -0.6459, -0.5531,  0.5860]],\n",
       "       device='cuda:0', grad_fn=<TanhBackward0>)"
      ]
     },
     "execution_count": 37,
     "metadata": {},
     "output_type": "execute_result"
    }
   ],
   "source": [
    "pooled"
   ]
  },
  {
   "cell_type": "code",
   "execution_count": 38,
   "metadata": {
    "scrolled": true
   },
   "outputs": [
    {
     "name": "stderr",
     "output_type": "stream",
     "text": [
      "/opt/conda/lib/python3.7/site-packages/ipykernel_launcher.py:17: UserWarning: Implicit dimension choice for softmax has been deprecated. Change the call to include dim=X as an argument.\n",
      "  app.launch_new_instance()\n"
     ]
    }
   ],
   "source": [
    "y = bert_clf(x)"
   ]
  },
  {
   "cell_type": "code",
   "execution_count": 39,
   "metadata": {},
   "outputs": [
    {
     "data": {
      "text/plain": [
       "array([[0.45197368, 0.33663693, 0.21138936],\n",
       "       [0.5384986 , 0.25826284, 0.20323864],\n",
       "       [0.4774684 , 0.3303221 , 0.19220947]], dtype=float32)"
      ]
     },
     "execution_count": 39,
     "metadata": {},
     "output_type": "execute_result"
    }
   ],
   "source": [
    "y.cpu().detach().numpy()"
   ]
  },
  {
   "cell_type": "code",
   "execution_count": 40,
   "metadata": {},
   "outputs": [
    {
     "data": {
      "text/plain": [
       "'879.4624M'"
      ]
     },
     "execution_count": 40,
     "metadata": {},
     "output_type": "execute_result"
    }
   ],
   "source": [
    "str(torch.cuda.memory_allocated(device)/1000000 ) + 'M'"
   ]
  },
  {
   "cell_type": "code",
   "execution_count": 41,
   "metadata": {},
   "outputs": [],
   "source": [
    "y, x, pooled = None, None, None\n",
    "torch.cuda.empty_cache()"
   ]
  },
  {
   "cell_type": "code",
   "execution_count": 42,
   "metadata": {},
   "outputs": [
    {
     "data": {
      "text/plain": [
       "'659.26144M'"
      ]
     },
     "execution_count": 42,
     "metadata": {},
     "output_type": "execute_result"
    }
   ],
   "source": [
    "str(torch.cuda.memory_allocated(device)/1000000 ) + 'M'"
   ]
  },
  {
   "cell_type": "markdown",
   "metadata": {},
   "source": [
    "# Fine-tune BERT"
   ]
  },
  {
   "cell_type": "markdown",
   "metadata": {},
   "source": [
    "- Train / Test"
   ]
  },
  {
   "cell_type": "code",
   "execution_count": 43,
   "metadata": {},
   "outputs": [],
   "source": [
    "BATCH_SIZE = 3\n",
    "EPOCHS = 3"
   ]
  },
  {
   "cell_type": "code",
   "execution_count": 44,
   "metadata": {},
   "outputs": [],
   "source": [
    "split_size = 4 * int(len(tokens_ids) / 5)"
   ]
  },
  {
   "cell_type": "code",
   "execution_count": 45,
   "metadata": {},
   "outputs": [],
   "source": [
    "X_train_ids, X_test_ids = tokens_ids[:split_size,:], tokens_ids[split_size:,:]"
   ]
  },
  {
   "cell_type": "code",
   "execution_count": 46,
   "metadata": {},
   "outputs": [
    {
     "data": {
      "text/plain": [
       "(12000, 64)"
      ]
     },
     "execution_count": 46,
     "metadata": {},
     "output_type": "execute_result"
    }
   ],
   "source": [
    "tokens_ids.shape"
   ]
  },
  {
   "cell_type": "code",
   "execution_count": 47,
   "metadata": {},
   "outputs": [
    {
     "data": {
      "text/plain": [
       "(9600, 64)"
      ]
     },
     "execution_count": 47,
     "metadata": {},
     "output_type": "execute_result"
    }
   ],
   "source": [
    "X_train_ids.shape"
   ]
  },
  {
   "cell_type": "code",
   "execution_count": 48,
   "metadata": {},
   "outputs": [
    {
     "data": {
      "text/plain": [
       "(2400, 64)"
      ]
     },
     "execution_count": 48,
     "metadata": {},
     "output_type": "execute_result"
    }
   ],
   "source": [
    "X_test_ids.shape"
   ]
  },
  {
   "cell_type": "code",
   "execution_count": 49,
   "metadata": {},
   "outputs": [],
   "source": [
    "y_train, y_test = labels[:split_size,:], labels[split_size:,:]"
   ]
  },
  {
   "cell_type": "code",
   "execution_count": 50,
   "metadata": {},
   "outputs": [
    {
     "data": {
      "text/plain": [
       "(12000, 3)"
      ]
     },
     "execution_count": 50,
     "metadata": {},
     "output_type": "execute_result"
    }
   ],
   "source": [
    "labels.shape"
   ]
  },
  {
   "cell_type": "code",
   "execution_count": 51,
   "metadata": {},
   "outputs": [
    {
     "data": {
      "text/plain": [
       "(9600, 3)"
      ]
     },
     "execution_count": 51,
     "metadata": {},
     "output_type": "execute_result"
    }
   ],
   "source": [
    "y_train.shape"
   ]
  },
  {
   "cell_type": "code",
   "execution_count": 52,
   "metadata": {},
   "outputs": [
    {
     "data": {
      "text/plain": [
       "(2400, 3)"
      ]
     },
     "execution_count": 52,
     "metadata": {},
     "output_type": "execute_result"
    }
   ],
   "source": [
    "y_test.shape"
   ]
  },
  {
   "cell_type": "code",
   "execution_count": 54,
   "metadata": {},
   "outputs": [],
   "source": [
    "masks_train, masks_test = np.array(masks)[:split_size,:], np.array(masks)[split_size:,:]"
   ]
  },
  {
   "cell_type": "code",
   "execution_count": 56,
   "metadata": {},
   "outputs": [
    {
     "data": {
      "text/plain": [
       "(12000, 64)"
      ]
     },
     "execution_count": 56,
     "metadata": {},
     "output_type": "execute_result"
    }
   ],
   "source": [
    "np.array(masks).shape"
   ]
  },
  {
   "cell_type": "code",
   "execution_count": 57,
   "metadata": {},
   "outputs": [
    {
     "data": {
      "text/plain": [
       "(9600, 64)"
      ]
     },
     "execution_count": 57,
     "metadata": {},
     "output_type": "execute_result"
    }
   ],
   "source": [
    "masks_train.shape"
   ]
  },
  {
   "cell_type": "code",
   "execution_count": 58,
   "metadata": {},
   "outputs": [
    {
     "data": {
      "text/plain": [
       "(2400, 64)"
      ]
     },
     "execution_count": 58,
     "metadata": {},
     "output_type": "execute_result"
    }
   ],
   "source": [
    "masks_test.shape"
   ]
  },
  {
   "cell_type": "code",
   "execution_count": 59,
   "metadata": {},
   "outputs": [],
   "source": [
    "train_tokens_tensor = torch.tensor(X_train_ids)\n",
    "train_y_tensor = torch.tensor(y_train).float()\n",
    "\n",
    "test_tokens_tensor = torch.tensor(X_test_ids)\n",
    "test_y_tensor = torch.tensor(y_test).float()\n",
    "\n",
    "train_masks_tensor = torch.tensor(masks_train)\n",
    "test_masks_tensor = torch.tensor(masks_test)"
   ]
  },
  {
   "cell_type": "code",
   "execution_count": 60,
   "metadata": {},
   "outputs": [
    {
     "data": {
      "text/plain": [
       "'659.26144M'"
      ]
     },
     "execution_count": 60,
     "metadata": {},
     "output_type": "execute_result"
    }
   ],
   "source": [
    "str(torch.cuda.memory_allocated(device)/1000000 ) + 'M'"
   ]
  },
  {
   "cell_type": "code",
   "execution_count": 61,
   "metadata": {},
   "outputs": [],
   "source": [
    "train_dataset = TensorDataset(train_tokens_tensor, train_masks_tensor, train_y_tensor)\n",
    "train_sampler = RandomSampler(train_dataset)\n",
    "train_dataloader = DataLoader(train_dataset, sampler=train_sampler, batch_size=BATCH_SIZE)\n",
    "\n",
    "test_dataset = TensorDataset(test_tokens_tensor, test_masks_tensor, test_y_tensor)\n",
    "test_sampler = SequentialSampler(test_dataset)\n",
    "test_dataloader = DataLoader(test_dataset, sampler=test_sampler, batch_size=BATCH_SIZE)"
   ]
  },
  {
   "cell_type": "code",
   "execution_count": 62,
   "metadata": {},
   "outputs": [
    {
     "data": {
      "text/plain": [
       "3200"
      ]
     },
     "execution_count": 62,
     "metadata": {},
     "output_type": "execute_result"
    }
   ],
   "source": [
    "len(train_dataloader)"
   ]
  },
  {
   "cell_type": "code",
   "execution_count": 63,
   "metadata": {},
   "outputs": [
    {
     "data": {
      "text/plain": [
       "800"
      ]
     },
     "execution_count": 63,
     "metadata": {},
     "output_type": "execute_result"
    }
   ],
   "source": [
    "len(test_dataloader)"
   ]
  },
  {
   "cell_type": "code",
   "execution_count": 64,
   "metadata": {},
   "outputs": [
    {
     "data": {
      "text/plain": [
       "(tensor([[ 101, 4965, 6108,  ...,    0,    0,    0],\n",
       "         [ 101, 7592, 1012,  ...,    0,    0,    0],\n",
       "         [ 101, 4698, 2003,  ...,    0,    0,    0],\n",
       "         ...,\n",
       "         [ 101, 2023, 2231,  ...,    0,    0,    0],\n",
       "         [ 101, 2175, 3805,  ...,    0,    0,    0],\n",
       "         [ 101, 7890, 3593,  ...,    0,    0,    0]]),\n",
       " tensor([[1., 1., 1.,  ..., 0., 0., 0.],\n",
       "         [1., 1., 1.,  ..., 0., 0., 0.],\n",
       "         [1., 1., 1.,  ..., 0., 0., 0.],\n",
       "         ...,\n",
       "         [1., 1., 1.,  ..., 0., 0., 0.],\n",
       "         [1., 1., 1.,  ..., 0., 0., 0.],\n",
       "         [1., 1., 1.,  ..., 0., 0., 0.]], dtype=torch.float64),\n",
       " tensor([[0., 0., 1.],\n",
       "         [1., 0., 0.],\n",
       "         [0., 1., 0.],\n",
       "         ...,\n",
       "         [0., 1., 0.],\n",
       "         [0., 0., 1.],\n",
       "         [0., 1., 0.]]))"
      ]
     },
     "execution_count": 64,
     "metadata": {},
     "output_type": "execute_result"
    }
   ],
   "source": [
    "train_dataset.tensors"
   ]
  },
  {
   "cell_type": "markdown",
   "metadata": {},
   "source": [
    "- Fine-tune BERT"
   ]
  },
  {
   "cell_type": "code",
   "execution_count": 65,
   "metadata": {},
   "outputs": [],
   "source": [
    "optimizer = Adam(bert_clf.parameters(), lr=3e-6)"
   ]
  },
  {
   "cell_type": "code",
   "execution_count": 66,
   "metadata": {},
   "outputs": [],
   "source": [
    "torch.cuda.empty_cache()"
   ]
  },
  {
   "cell_type": "code",
   "execution_count": 67,
   "metadata": {
    "scrolled": true
   },
   "outputs": [
    {
     "name": "stdout",
     "output_type": "stream",
     "text": [
      "Epoch:  3\n",
      "\r",
      "3199/3200 loss: 0.44709983104490675 \n"
     ]
    }
   ],
   "source": [
    "for epoch_num in range(EPOCHS):\n",
    "    bert_clf.train()\n",
    "    train_loss = 0\n",
    "    for step_num, batch_data in enumerate(train_dataloader):\n",
    "        \n",
    "        token_ids, masks, labels = tuple(t.to(device) for t in batch_data)\n",
    "        logits = bert_clf(token_ids, masks)\n",
    "        \n",
    "        loss_func = nn.BCELoss()\n",
    "\n",
    "        batch_loss = loss_func(logits, labels)\n",
    "        train_loss += batch_loss.item()\n",
    "        \n",
    "        bert_clf.zero_grad()\n",
    "        batch_loss.backward()\n",
    "\n",
    "        clip_grad_norm_(parameters=bert_clf.parameters(), max_norm=1.0)\n",
    "        optimizer.step()\n",
    "        \n",
    "        clear_output(wait=True)\n",
    "        print('Epoch: ', epoch_num + 1)\n",
    "        print(\"\\r\" + \"{0}/{1} loss: {2} \".format(step_num, int(len(X_train_ids) / BATCH_SIZE), train_loss / (step_num + 1)))"
   ]
  },
  {
   "cell_type": "code",
   "execution_count": 68,
   "metadata": {},
   "outputs": [],
   "source": [
    "torch.save(bert_clf, './bert_clf_' + str(EPOCHS) + 'epoch' + '.h5')"
   ]
  },
  {
   "cell_type": "markdown",
   "metadata": {},
   "source": [
    "# Evaluation"
   ]
  },
  {
   "cell_type": "code",
   "execution_count": 69,
   "metadata": {
    "scrolled": true
   },
   "outputs": [
    {
     "name": "stdout",
     "output_type": "stream",
     "text": [
      "\r",
      "799/800 loss: 1.788399324179627 \n"
     ]
    }
   ],
   "source": [
    "bert_clf.eval()\n",
    "bert_predicted = []\n",
    "all_logits = []\n",
    "with torch.no_grad():\n",
    "    for step_num, batch_data in enumerate(test_dataloader):\n",
    "\n",
    "        token_ids, masks, labels = tuple(t.to(device) for t in batch_data)\n",
    "        logits = bert_clf(token_ids, masks)\n",
    "        \n",
    "        loss_func = nn.BCELoss()\n",
    "        \n",
    "        loss = loss_func(logits, labels)\n",
    "        numpy_logits = logits.cpu().detach().numpy()\n",
    "        \n",
    "        for i in range(len(logits)):\n",
    "             bert_predicted.append(logits[i].argmax())\n",
    "#         bert_predicted += list(numpy_logits[:, 0] > 0.5)\n",
    "        all_logits += list(numpy_logits[:, 0])\n",
    "        \n",
    "        clear_output(wait=True)\n",
    "        print(\"\\r\" + \"{0}/{1} loss: {2} \".format(step_num, int(len(X_test_ids) / BATCH_SIZE), train_loss / (step_num + 1)))"
   ]
  },
  {
   "cell_type": "code",
   "execution_count": 71,
   "metadata": {},
   "outputs": [
    {
     "data": {
      "text/plain": [
       "[tensor(2, device='cuda:0'),\n",
       " tensor(2, device='cuda:0'),\n",
       " tensor(2, device='cuda:0'),\n",
       " tensor(0, device='cuda:0'),\n",
       " tensor(2, device='cuda:0'),\n",
       " tensor(2, device='cuda:0'),\n",
       " tensor(2, device='cuda:0'),\n",
       " tensor(0, device='cuda:0'),\n",
       " tensor(0, device='cuda:0'),\n",
       " tensor(2, device='cuda:0'),\n",
       " tensor(0, device='cuda:0'),\n",
       " tensor(0, device='cuda:0'),\n",
       " tensor(2, device='cuda:0'),\n",
       " tensor(2, device='cuda:0'),\n",
       " tensor(1, device='cuda:0'),\n",
       " tensor(2, device='cuda:0'),\n",
       " tensor(1, device='cuda:0'),\n",
       " tensor(2, device='cuda:0'),\n",
       " tensor(2, device='cuda:0'),\n",
       " tensor(0, device='cuda:0'),\n",
       " tensor(2, device='cuda:0'),\n",
       " tensor(0, device='cuda:0'),\n",
       " tensor(1, device='cuda:0'),\n",
       " tensor(2, device='cuda:0'),\n",
       " tensor(0, device='cuda:0'),\n",
       " tensor(2, device='cuda:0'),\n",
       " tensor(2, device='cuda:0'),\n",
       " tensor(2, device='cuda:0'),\n",
       " tensor(0, device='cuda:0'),\n",
       " tensor(0, device='cuda:0'),\n",
       " tensor(2, device='cuda:0'),\n",
       " tensor(2, device='cuda:0'),\n",
       " tensor(0, device='cuda:0'),\n",
       " tensor(0, device='cuda:0'),\n",
       " tensor(0, device='cuda:0'),\n",
       " tensor(2, device='cuda:0'),\n",
       " tensor(0, device='cuda:0'),\n",
       " tensor(1, device='cuda:0'),\n",
       " tensor(2, device='cuda:0'),\n",
       " tensor(0, device='cuda:0'),\n",
       " tensor(2, device='cuda:0'),\n",
       " tensor(0, device='cuda:0'),\n",
       " tensor(1, device='cuda:0'),\n",
       " tensor(0, device='cuda:0'),\n",
       " tensor(0, device='cuda:0'),\n",
       " tensor(2, device='cuda:0'),\n",
       " tensor(2, device='cuda:0'),\n",
       " tensor(0, device='cuda:0'),\n",
       " tensor(0, device='cuda:0'),\n",
       " tensor(2, device='cuda:0'),\n",
       " tensor(2, device='cuda:0'),\n",
       " tensor(2, device='cuda:0'),\n",
       " tensor(2, device='cuda:0'),\n",
       " tensor(1, device='cuda:0'),\n",
       " tensor(0, device='cuda:0'),\n",
       " tensor(0, device='cuda:0'),\n",
       " tensor(2, device='cuda:0'),\n",
       " tensor(2, device='cuda:0'),\n",
       " tensor(2, device='cuda:0'),\n",
       " tensor(2, device='cuda:0'),\n",
       " tensor(1, device='cuda:0'),\n",
       " tensor(0, device='cuda:0'),\n",
       " tensor(2, device='cuda:0'),\n",
       " tensor(1, device='cuda:0'),\n",
       " tensor(0, device='cuda:0'),\n",
       " tensor(0, device='cuda:0'),\n",
       " tensor(0, device='cuda:0'),\n",
       " tensor(2, device='cuda:0'),\n",
       " tensor(1, device='cuda:0'),\n",
       " tensor(0, device='cuda:0'),\n",
       " tensor(2, device='cuda:0'),\n",
       " tensor(2, device='cuda:0'),\n",
       " tensor(0, device='cuda:0'),\n",
       " tensor(2, device='cuda:0'),\n",
       " tensor(2, device='cuda:0'),\n",
       " tensor(0, device='cuda:0'),\n",
       " tensor(2, device='cuda:0'),\n",
       " tensor(2, device='cuda:0'),\n",
       " tensor(1, device='cuda:0'),\n",
       " tensor(2, device='cuda:0'),\n",
       " tensor(0, device='cuda:0'),\n",
       " tensor(0, device='cuda:0'),\n",
       " tensor(2, device='cuda:0'),\n",
       " tensor(2, device='cuda:0'),\n",
       " tensor(2, device='cuda:0'),\n",
       " tensor(2, device='cuda:0'),\n",
       " tensor(1, device='cuda:0'),\n",
       " tensor(1, device='cuda:0'),\n",
       " tensor(2, device='cuda:0'),\n",
       " tensor(2, device='cuda:0'),\n",
       " tensor(2, device='cuda:0'),\n",
       " tensor(1, device='cuda:0'),\n",
       " tensor(0, device='cuda:0'),\n",
       " tensor(0, device='cuda:0'),\n",
       " tensor(2, device='cuda:0'),\n",
       " tensor(0, device='cuda:0'),\n",
       " tensor(0, device='cuda:0'),\n",
       " tensor(1, device='cuda:0'),\n",
       " tensor(0, device='cuda:0'),\n",
       " tensor(2, device='cuda:0'),\n",
       " tensor(0, device='cuda:0'),\n",
       " tensor(2, device='cuda:0'),\n",
       " tensor(2, device='cuda:0'),\n",
       " tensor(2, device='cuda:0'),\n",
       " tensor(0, device='cuda:0'),\n",
       " tensor(1, device='cuda:0'),\n",
       " tensor(2, device='cuda:0'),\n",
       " tensor(2, device='cuda:0'),\n",
       " tensor(0, device='cuda:0'),\n",
       " tensor(1, device='cuda:0'),\n",
       " tensor(2, device='cuda:0'),\n",
       " tensor(2, device='cuda:0'),\n",
       " tensor(2, device='cuda:0'),\n",
       " tensor(2, device='cuda:0'),\n",
       " tensor(2, device='cuda:0'),\n",
       " tensor(0, device='cuda:0'),\n",
       " tensor(0, device='cuda:0'),\n",
       " tensor(0, device='cuda:0'),\n",
       " tensor(2, device='cuda:0'),\n",
       " tensor(2, device='cuda:0'),\n",
       " tensor(0, device='cuda:0'),\n",
       " tensor(2, device='cuda:0'),\n",
       " tensor(0, device='cuda:0'),\n",
       " tensor(2, device='cuda:0'),\n",
       " tensor(2, device='cuda:0'),\n",
       " tensor(2, device='cuda:0'),\n",
       " tensor(2, device='cuda:0'),\n",
       " tensor(2, device='cuda:0'),\n",
       " tensor(0, device='cuda:0'),\n",
       " tensor(2, device='cuda:0'),\n",
       " tensor(1, device='cuda:0'),\n",
       " tensor(1, device='cuda:0'),\n",
       " tensor(1, device='cuda:0'),\n",
       " tensor(2, device='cuda:0'),\n",
       " tensor(2, device='cuda:0'),\n",
       " tensor(1, device='cuda:0'),\n",
       " tensor(0, device='cuda:0'),\n",
       " tensor(0, device='cuda:0'),\n",
       " tensor(2, device='cuda:0'),\n",
       " tensor(2, device='cuda:0'),\n",
       " tensor(2, device='cuda:0'),\n",
       " tensor(2, device='cuda:0'),\n",
       " tensor(2, device='cuda:0'),\n",
       " tensor(1, device='cuda:0'),\n",
       " tensor(2, device='cuda:0'),\n",
       " tensor(2, device='cuda:0'),\n",
       " tensor(0, device='cuda:0'),\n",
       " tensor(0, device='cuda:0'),\n",
       " tensor(1, device='cuda:0'),\n",
       " tensor(0, device='cuda:0'),\n",
       " tensor(1, device='cuda:0'),\n",
       " tensor(2, device='cuda:0'),\n",
       " tensor(2, device='cuda:0'),\n",
       " tensor(0, device='cuda:0'),\n",
       " tensor(2, device='cuda:0'),\n",
       " tensor(1, device='cuda:0'),\n",
       " tensor(0, device='cuda:0'),\n",
       " tensor(1, device='cuda:0'),\n",
       " tensor(0, device='cuda:0'),\n",
       " tensor(1, device='cuda:0'),\n",
       " tensor(1, device='cuda:0'),\n",
       " tensor(2, device='cuda:0'),\n",
       " tensor(0, device='cuda:0'),\n",
       " tensor(2, device='cuda:0'),\n",
       " tensor(2, device='cuda:0'),\n",
       " tensor(1, device='cuda:0'),\n",
       " tensor(2, device='cuda:0'),\n",
       " tensor(2, device='cuda:0'),\n",
       " tensor(2, device='cuda:0'),\n",
       " tensor(0, device='cuda:0'),\n",
       " tensor(1, device='cuda:0'),\n",
       " tensor(2, device='cuda:0'),\n",
       " tensor(2, device='cuda:0'),\n",
       " tensor(1, device='cuda:0'),\n",
       " tensor(0, device='cuda:0'),\n",
       " tensor(0, device='cuda:0'),\n",
       " tensor(0, device='cuda:0'),\n",
       " tensor(0, device='cuda:0'),\n",
       " tensor(1, device='cuda:0'),\n",
       " tensor(0, device='cuda:0'),\n",
       " tensor(0, device='cuda:0'),\n",
       " tensor(0, device='cuda:0'),\n",
       " tensor(0, device='cuda:0'),\n",
       " tensor(0, device='cuda:0'),\n",
       " tensor(2, device='cuda:0'),\n",
       " tensor(1, device='cuda:0'),\n",
       " tensor(0, device='cuda:0'),\n",
       " tensor(0, device='cuda:0'),\n",
       " tensor(0, device='cuda:0'),\n",
       " tensor(1, device='cuda:0'),\n",
       " tensor(1, device='cuda:0'),\n",
       " tensor(0, device='cuda:0'),\n",
       " tensor(1, device='cuda:0'),\n",
       " tensor(0, device='cuda:0'),\n",
       " tensor(0, device='cuda:0'),\n",
       " tensor(0, device='cuda:0'),\n",
       " tensor(2, device='cuda:0'),\n",
       " tensor(2, device='cuda:0'),\n",
       " tensor(0, device='cuda:0'),\n",
       " tensor(2, device='cuda:0'),\n",
       " tensor(1, device='cuda:0'),\n",
       " tensor(0, device='cuda:0'),\n",
       " tensor(2, device='cuda:0'),\n",
       " tensor(2, device='cuda:0'),\n",
       " tensor(2, device='cuda:0'),\n",
       " tensor(0, device='cuda:0'),\n",
       " tensor(2, device='cuda:0'),\n",
       " tensor(2, device='cuda:0'),\n",
       " tensor(1, device='cuda:0'),\n",
       " tensor(0, device='cuda:0'),\n",
       " tensor(2, device='cuda:0'),\n",
       " tensor(2, device='cuda:0'),\n",
       " tensor(0, device='cuda:0'),\n",
       " tensor(2, device='cuda:0'),\n",
       " tensor(2, device='cuda:0'),\n",
       " tensor(2, device='cuda:0'),\n",
       " tensor(0, device='cuda:0'),\n",
       " tensor(2, device='cuda:0'),\n",
       " tensor(2, device='cuda:0'),\n",
       " tensor(0, device='cuda:0'),\n",
       " tensor(0, device='cuda:0'),\n",
       " tensor(0, device='cuda:0'),\n",
       " tensor(0, device='cuda:0'),\n",
       " tensor(2, device='cuda:0'),\n",
       " tensor(2, device='cuda:0'),\n",
       " tensor(1, device='cuda:0'),\n",
       " tensor(0, device='cuda:0'),\n",
       " tensor(0, device='cuda:0'),\n",
       " tensor(2, device='cuda:0'),\n",
       " tensor(2, device='cuda:0'),\n",
       " tensor(2, device='cuda:0'),\n",
       " tensor(1, device='cuda:0'),\n",
       " tensor(2, device='cuda:0'),\n",
       " tensor(0, device='cuda:0'),\n",
       " tensor(1, device='cuda:0'),\n",
       " tensor(2, device='cuda:0'),\n",
       " tensor(0, device='cuda:0'),\n",
       " tensor(2, device='cuda:0'),\n",
       " tensor(0, device='cuda:0'),\n",
       " tensor(2, device='cuda:0'),\n",
       " tensor(0, device='cuda:0'),\n",
       " tensor(0, device='cuda:0'),\n",
       " tensor(1, device='cuda:0'),\n",
       " tensor(1, device='cuda:0'),\n",
       " tensor(1, device='cuda:0'),\n",
       " tensor(0, device='cuda:0'),\n",
       " tensor(0, device='cuda:0'),\n",
       " tensor(2, device='cuda:0'),\n",
       " tensor(0, device='cuda:0'),\n",
       " tensor(0, device='cuda:0'),\n",
       " tensor(0, device='cuda:0'),\n",
       " tensor(2, device='cuda:0'),\n",
       " tensor(0, device='cuda:0'),\n",
       " tensor(0, device='cuda:0'),\n",
       " tensor(2, device='cuda:0'),\n",
       " tensor(1, device='cuda:0'),\n",
       " tensor(0, device='cuda:0'),\n",
       " tensor(0, device='cuda:0'),\n",
       " tensor(2, device='cuda:0'),\n",
       " tensor(0, device='cuda:0'),\n",
       " tensor(1, device='cuda:0'),\n",
       " tensor(2, device='cuda:0'),\n",
       " tensor(0, device='cuda:0'),\n",
       " tensor(1, device='cuda:0'),\n",
       " tensor(0, device='cuda:0'),\n",
       " tensor(1, device='cuda:0'),\n",
       " tensor(1, device='cuda:0'),\n",
       " tensor(0, device='cuda:0'),\n",
       " tensor(2, device='cuda:0'),\n",
       " tensor(2, device='cuda:0'),\n",
       " tensor(1, device='cuda:0'),\n",
       " tensor(0, device='cuda:0'),\n",
       " tensor(0, device='cuda:0'),\n",
       " tensor(1, device='cuda:0'),\n",
       " tensor(2, device='cuda:0'),\n",
       " tensor(2, device='cuda:0'),\n",
       " tensor(1, device='cuda:0'),\n",
       " tensor(0, device='cuda:0'),\n",
       " tensor(2, device='cuda:0'),\n",
       " tensor(1, device='cuda:0'),\n",
       " tensor(2, device='cuda:0'),\n",
       " tensor(0, device='cuda:0'),\n",
       " tensor(0, device='cuda:0'),\n",
       " tensor(1, device='cuda:0'),\n",
       " tensor(0, device='cuda:0'),\n",
       " tensor(1, device='cuda:0'),\n",
       " tensor(2, device='cuda:0'),\n",
       " tensor(2, device='cuda:0'),\n",
       " tensor(1, device='cuda:0'),\n",
       " tensor(2, device='cuda:0'),\n",
       " tensor(2, device='cuda:0'),\n",
       " tensor(0, device='cuda:0'),\n",
       " tensor(1, device='cuda:0'),\n",
       " tensor(2, device='cuda:0'),\n",
       " tensor(2, device='cuda:0'),\n",
       " tensor(2, device='cuda:0'),\n",
       " tensor(0, device='cuda:0'),\n",
       " tensor(0, device='cuda:0'),\n",
       " tensor(0, device='cuda:0'),\n",
       " tensor(2, device='cuda:0'),\n",
       " tensor(2, device='cuda:0'),\n",
       " tensor(0, device='cuda:0'),\n",
       " tensor(2, device='cuda:0'),\n",
       " tensor(0, device='cuda:0'),\n",
       " tensor(0, device='cuda:0'),\n",
       " tensor(2, device='cuda:0'),\n",
       " tensor(2, device='cuda:0'),\n",
       " tensor(2, device='cuda:0'),\n",
       " tensor(0, device='cuda:0'),\n",
       " tensor(0, device='cuda:0'),\n",
       " tensor(2, device='cuda:0'),\n",
       " tensor(2, device='cuda:0'),\n",
       " tensor(2, device='cuda:0'),\n",
       " tensor(2, device='cuda:0'),\n",
       " tensor(0, device='cuda:0'),\n",
       " tensor(2, device='cuda:0'),\n",
       " tensor(2, device='cuda:0'),\n",
       " tensor(2, device='cuda:0'),\n",
       " tensor(2, device='cuda:0'),\n",
       " tensor(2, device='cuda:0'),\n",
       " tensor(2, device='cuda:0'),\n",
       " tensor(0, device='cuda:0'),\n",
       " tensor(2, device='cuda:0'),\n",
       " tensor(1, device='cuda:0'),\n",
       " tensor(1, device='cuda:0'),\n",
       " tensor(0, device='cuda:0'),\n",
       " tensor(2, device='cuda:0'),\n",
       " tensor(0, device='cuda:0'),\n",
       " tensor(1, device='cuda:0'),\n",
       " tensor(2, device='cuda:0'),\n",
       " tensor(1, device='cuda:0'),\n",
       " tensor(0, device='cuda:0'),\n",
       " tensor(1, device='cuda:0'),\n",
       " tensor(2, device='cuda:0'),\n",
       " tensor(2, device='cuda:0'),\n",
       " tensor(0, device='cuda:0'),\n",
       " tensor(0, device='cuda:0'),\n",
       " tensor(1, device='cuda:0'),\n",
       " tensor(0, device='cuda:0'),\n",
       " tensor(2, device='cuda:0'),\n",
       " tensor(0, device='cuda:0'),\n",
       " tensor(2, device='cuda:0'),\n",
       " tensor(0, device='cuda:0'),\n",
       " tensor(2, device='cuda:0'),\n",
       " tensor(2, device='cuda:0'),\n",
       " tensor(0, device='cuda:0'),\n",
       " tensor(2, device='cuda:0'),\n",
       " tensor(2, device='cuda:0'),\n",
       " tensor(0, device='cuda:0'),\n",
       " tensor(0, device='cuda:0'),\n",
       " tensor(2, device='cuda:0'),\n",
       " tensor(0, device='cuda:0'),\n",
       " tensor(1, device='cuda:0'),\n",
       " tensor(2, device='cuda:0'),\n",
       " tensor(2, device='cuda:0'),\n",
       " tensor(2, device='cuda:0'),\n",
       " tensor(0, device='cuda:0'),\n",
       " tensor(2, device='cuda:0'),\n",
       " tensor(0, device='cuda:0'),\n",
       " tensor(0, device='cuda:0'),\n",
       " tensor(0, device='cuda:0'),\n",
       " tensor(0, device='cuda:0'),\n",
       " tensor(2, device='cuda:0'),\n",
       " tensor(0, device='cuda:0'),\n",
       " tensor(1, device='cuda:0'),\n",
       " tensor(1, device='cuda:0'),\n",
       " tensor(0, device='cuda:0'),\n",
       " tensor(2, device='cuda:0'),\n",
       " tensor(0, device='cuda:0'),\n",
       " tensor(0, device='cuda:0'),\n",
       " tensor(0, device='cuda:0'),\n",
       " tensor(2, device='cuda:0'),\n",
       " tensor(0, device='cuda:0'),\n",
       " tensor(0, device='cuda:0'),\n",
       " tensor(0, device='cuda:0'),\n",
       " tensor(0, device='cuda:0'),\n",
       " tensor(0, device='cuda:0'),\n",
       " tensor(0, device='cuda:0'),\n",
       " tensor(0, device='cuda:0'),\n",
       " tensor(0, device='cuda:0'),\n",
       " tensor(0, device='cuda:0'),\n",
       " tensor(2, device='cuda:0'),\n",
       " tensor(2, device='cuda:0'),\n",
       " tensor(0, device='cuda:0'),\n",
       " tensor(2, device='cuda:0'),\n",
       " tensor(2, device='cuda:0'),\n",
       " tensor(0, device='cuda:0'),\n",
       " tensor(2, device='cuda:0'),\n",
       " tensor(0, device='cuda:0'),\n",
       " tensor(0, device='cuda:0'),\n",
       " tensor(0, device='cuda:0'),\n",
       " tensor(2, device='cuda:0'),\n",
       " tensor(0, device='cuda:0'),\n",
       " tensor(0, device='cuda:0'),\n",
       " tensor(2, device='cuda:0'),\n",
       " tensor(0, device='cuda:0'),\n",
       " tensor(0, device='cuda:0'),\n",
       " tensor(2, device='cuda:0'),\n",
       " tensor(2, device='cuda:0'),\n",
       " tensor(2, device='cuda:0'),\n",
       " tensor(0, device='cuda:0'),\n",
       " tensor(1, device='cuda:0'),\n",
       " tensor(2, device='cuda:0'),\n",
       " tensor(2, device='cuda:0'),\n",
       " tensor(0, device='cuda:0'),\n",
       " tensor(0, device='cuda:0'),\n",
       " tensor(2, device='cuda:0'),\n",
       " tensor(0, device='cuda:0'),\n",
       " tensor(2, device='cuda:0'),\n",
       " tensor(0, device='cuda:0'),\n",
       " tensor(2, device='cuda:0'),\n",
       " tensor(2, device='cuda:0'),\n",
       " tensor(2, device='cuda:0'),\n",
       " tensor(0, device='cuda:0'),\n",
       " tensor(0, device='cuda:0'),\n",
       " tensor(2, device='cuda:0'),\n",
       " tensor(0, device='cuda:0'),\n",
       " tensor(2, device='cuda:0'),\n",
       " tensor(0, device='cuda:0'),\n",
       " tensor(0, device='cuda:0'),\n",
       " tensor(1, device='cuda:0'),\n",
       " tensor(0, device='cuda:0'),\n",
       " tensor(2, device='cuda:0'),\n",
       " tensor(0, device='cuda:0'),\n",
       " tensor(0, device='cuda:0'),\n",
       " tensor(0, device='cuda:0'),\n",
       " tensor(2, device='cuda:0'),\n",
       " tensor(0, device='cuda:0'),\n",
       " tensor(0, device='cuda:0'),\n",
       " tensor(1, device='cuda:0'),\n",
       " tensor(2, device='cuda:0'),\n",
       " tensor(0, device='cuda:0'),\n",
       " tensor(0, device='cuda:0'),\n",
       " tensor(1, device='cuda:0'),\n",
       " tensor(0, device='cuda:0'),\n",
       " tensor(1, device='cuda:0'),\n",
       " tensor(0, device='cuda:0'),\n",
       " tensor(0, device='cuda:0'),\n",
       " tensor(2, device='cuda:0'),\n",
       " tensor(1, device='cuda:0'),\n",
       " tensor(2, device='cuda:0'),\n",
       " tensor(2, device='cuda:0'),\n",
       " tensor(1, device='cuda:0'),\n",
       " tensor(0, device='cuda:0'),\n",
       " tensor(1, device='cuda:0'),\n",
       " tensor(0, device='cuda:0'),\n",
       " tensor(2, device='cuda:0'),\n",
       " tensor(2, device='cuda:0'),\n",
       " tensor(2, device='cuda:0'),\n",
       " tensor(2, device='cuda:0'),\n",
       " tensor(0, device='cuda:0'),\n",
       " tensor(0, device='cuda:0'),\n",
       " tensor(2, device='cuda:0'),\n",
       " tensor(2, device='cuda:0'),\n",
       " tensor(0, device='cuda:0'),\n",
       " tensor(2, device='cuda:0'),\n",
       " tensor(1, device='cuda:0'),\n",
       " tensor(2, device='cuda:0'),\n",
       " tensor(2, device='cuda:0'),\n",
       " tensor(2, device='cuda:0'),\n",
       " tensor(2, device='cuda:0'),\n",
       " tensor(2, device='cuda:0'),\n",
       " tensor(0, device='cuda:0'),\n",
       " tensor(2, device='cuda:0'),\n",
       " tensor(1, device='cuda:0'),\n",
       " tensor(0, device='cuda:0'),\n",
       " tensor(0, device='cuda:0'),\n",
       " tensor(1, device='cuda:0'),\n",
       " tensor(0, device='cuda:0'),\n",
       " tensor(0, device='cuda:0'),\n",
       " tensor(2, device='cuda:0'),\n",
       " tensor(2, device='cuda:0'),\n",
       " tensor(0, device='cuda:0'),\n",
       " tensor(0, device='cuda:0'),\n",
       " tensor(0, device='cuda:0'),\n",
       " tensor(0, device='cuda:0'),\n",
       " tensor(2, device='cuda:0'),\n",
       " tensor(2, device='cuda:0'),\n",
       " tensor(1, device='cuda:0'),\n",
       " tensor(0, device='cuda:0'),\n",
       " tensor(0, device='cuda:0'),\n",
       " tensor(2, device='cuda:0'),\n",
       " tensor(0, device='cuda:0'),\n",
       " tensor(0, device='cuda:0'),\n",
       " tensor(0, device='cuda:0'),\n",
       " tensor(1, device='cuda:0'),\n",
       " tensor(0, device='cuda:0'),\n",
       " tensor(0, device='cuda:0'),\n",
       " tensor(0, device='cuda:0'),\n",
       " tensor(2, device='cuda:0'),\n",
       " tensor(1, device='cuda:0'),\n",
       " tensor(0, device='cuda:0'),\n",
       " tensor(2, device='cuda:0'),\n",
       " tensor(0, device='cuda:0'),\n",
       " tensor(2, device='cuda:0'),\n",
       " tensor(2, device='cuda:0'),\n",
       " tensor(2, device='cuda:0'),\n",
       " tensor(2, device='cuda:0'),\n",
       " tensor(2, device='cuda:0'),\n",
       " tensor(2, device='cuda:0'),\n",
       " tensor(2, device='cuda:0'),\n",
       " tensor(0, device='cuda:0'),\n",
       " tensor(1, device='cuda:0'),\n",
       " tensor(1, device='cuda:0'),\n",
       " tensor(2, device='cuda:0'),\n",
       " tensor(1, device='cuda:0'),\n",
       " tensor(1, device='cuda:0'),\n",
       " tensor(0, device='cuda:0'),\n",
       " tensor(2, device='cuda:0'),\n",
       " tensor(0, device='cuda:0'),\n",
       " tensor(0, device='cuda:0'),\n",
       " tensor(0, device='cuda:0'),\n",
       " tensor(2, device='cuda:0'),\n",
       " tensor(1, device='cuda:0'),\n",
       " tensor(0, device='cuda:0'),\n",
       " tensor(0, device='cuda:0'),\n",
       " tensor(2, device='cuda:0'),\n",
       " tensor(2, device='cuda:0'),\n",
       " tensor(0, device='cuda:0'),\n",
       " tensor(2, device='cuda:0'),\n",
       " tensor(2, device='cuda:0'),\n",
       " tensor(1, device='cuda:0'),\n",
       " tensor(0, device='cuda:0'),\n",
       " tensor(0, device='cuda:0'),\n",
       " tensor(0, device='cuda:0'),\n",
       " tensor(0, device='cuda:0'),\n",
       " tensor(0, device='cuda:0'),\n",
       " tensor(2, device='cuda:0'),\n",
       " tensor(1, device='cuda:0'),\n",
       " tensor(2, device='cuda:0'),\n",
       " tensor(2, device='cuda:0'),\n",
       " tensor(0, device='cuda:0'),\n",
       " tensor(2, device='cuda:0'),\n",
       " tensor(2, device='cuda:0'),\n",
       " tensor(0, device='cuda:0'),\n",
       " tensor(2, device='cuda:0'),\n",
       " tensor(2, device='cuda:0'),\n",
       " tensor(2, device='cuda:0'),\n",
       " tensor(2, device='cuda:0'),\n",
       " tensor(0, device='cuda:0'),\n",
       " tensor(0, device='cuda:0'),\n",
       " tensor(0, device='cuda:0'),\n",
       " tensor(1, device='cuda:0'),\n",
       " tensor(0, device='cuda:0'),\n",
       " tensor(0, device='cuda:0'),\n",
       " tensor(1, device='cuda:0'),\n",
       " tensor(2, device='cuda:0'),\n",
       " tensor(2, device='cuda:0'),\n",
       " tensor(2, device='cuda:0'),\n",
       " tensor(0, device='cuda:0'),\n",
       " tensor(0, device='cuda:0'),\n",
       " tensor(2, device='cuda:0'),\n",
       " tensor(1, device='cuda:0'),\n",
       " tensor(2, device='cuda:0'),\n",
       " tensor(2, device='cuda:0'),\n",
       " tensor(0, device='cuda:0'),\n",
       " tensor(2, device='cuda:0'),\n",
       " tensor(2, device='cuda:0'),\n",
       " tensor(1, device='cuda:0'),\n",
       " tensor(2, device='cuda:0'),\n",
       " tensor(2, device='cuda:0'),\n",
       " tensor(2, device='cuda:0'),\n",
       " tensor(0, device='cuda:0'),\n",
       " tensor(2, device='cuda:0'),\n",
       " tensor(2, device='cuda:0'),\n",
       " tensor(0, device='cuda:0'),\n",
       " tensor(2, device='cuda:0'),\n",
       " tensor(0, device='cuda:0'),\n",
       " tensor(1, device='cuda:0'),\n",
       " tensor(1, device='cuda:0'),\n",
       " tensor(1, device='cuda:0'),\n",
       " tensor(0, device='cuda:0'),\n",
       " tensor(2, device='cuda:0'),\n",
       " tensor(0, device='cuda:0'),\n",
       " tensor(0, device='cuda:0'),\n",
       " tensor(1, device='cuda:0'),\n",
       " tensor(2, device='cuda:0'),\n",
       " tensor(0, device='cuda:0'),\n",
       " tensor(0, device='cuda:0'),\n",
       " tensor(0, device='cuda:0'),\n",
       " tensor(0, device='cuda:0'),\n",
       " tensor(0, device='cuda:0'),\n",
       " tensor(0, device='cuda:0'),\n",
       " tensor(0, device='cuda:0'),\n",
       " tensor(0, device='cuda:0'),\n",
       " tensor(1, device='cuda:0'),\n",
       " tensor(0, device='cuda:0'),\n",
       " tensor(0, device='cuda:0'),\n",
       " tensor(2, device='cuda:0'),\n",
       " tensor(0, device='cuda:0'),\n",
       " tensor(0, device='cuda:0'),\n",
       " tensor(0, device='cuda:0'),\n",
       " tensor(1, device='cuda:0'),\n",
       " tensor(0, device='cuda:0'),\n",
       " tensor(0, device='cuda:0'),\n",
       " tensor(0, device='cuda:0'),\n",
       " tensor(0, device='cuda:0'),\n",
       " tensor(0, device='cuda:0'),\n",
       " tensor(0, device='cuda:0'),\n",
       " tensor(2, device='cuda:0'),\n",
       " tensor(0, device='cuda:0'),\n",
       " tensor(0, device='cuda:0'),\n",
       " tensor(2, device='cuda:0'),\n",
       " tensor(0, device='cuda:0'),\n",
       " tensor(2, device='cuda:0'),\n",
       " tensor(0, device='cuda:0'),\n",
       " tensor(1, device='cuda:0'),\n",
       " tensor(2, device='cuda:0'),\n",
       " tensor(0, device='cuda:0'),\n",
       " tensor(1, device='cuda:0'),\n",
       " tensor(0, device='cuda:0'),\n",
       " tensor(2, device='cuda:0'),\n",
       " tensor(0, device='cuda:0'),\n",
       " tensor(2, device='cuda:0'),\n",
       " tensor(1, device='cuda:0'),\n",
       " tensor(1, device='cuda:0'),\n",
       " tensor(0, device='cuda:0'),\n",
       " tensor(2, device='cuda:0'),\n",
       " tensor(0, device='cuda:0'),\n",
       " tensor(2, device='cuda:0'),\n",
       " tensor(0, device='cuda:0'),\n",
       " tensor(0, device='cuda:0'),\n",
       " tensor(0, device='cuda:0'),\n",
       " tensor(2, device='cuda:0'),\n",
       " tensor(0, device='cuda:0'),\n",
       " tensor(2, device='cuda:0'),\n",
       " tensor(1, device='cuda:0'),\n",
       " tensor(2, device='cuda:0'),\n",
       " tensor(2, device='cuda:0'),\n",
       " tensor(2, device='cuda:0'),\n",
       " tensor(1, device='cuda:0'),\n",
       " tensor(1, device='cuda:0'),\n",
       " tensor(0, device='cuda:0'),\n",
       " tensor(2, device='cuda:0'),\n",
       " tensor(0, device='cuda:0'),\n",
       " tensor(0, device='cuda:0'),\n",
       " tensor(2, device='cuda:0'),\n",
       " tensor(2, device='cuda:0'),\n",
       " tensor(0, device='cuda:0'),\n",
       " tensor(1, device='cuda:0'),\n",
       " tensor(2, device='cuda:0'),\n",
       " tensor(2, device='cuda:0'),\n",
       " tensor(0, device='cuda:0'),\n",
       " tensor(0, device='cuda:0'),\n",
       " tensor(1, device='cuda:0'),\n",
       " tensor(0, device='cuda:0'),\n",
       " tensor(2, device='cuda:0'),\n",
       " tensor(0, device='cuda:0'),\n",
       " tensor(0, device='cuda:0'),\n",
       " tensor(2, device='cuda:0'),\n",
       " tensor(0, device='cuda:0'),\n",
       " tensor(2, device='cuda:0'),\n",
       " tensor(0, device='cuda:0'),\n",
       " tensor(2, device='cuda:0'),\n",
       " tensor(1, device='cuda:0'),\n",
       " tensor(2, device='cuda:0'),\n",
       " tensor(2, device='cuda:0'),\n",
       " tensor(0, device='cuda:0'),\n",
       " tensor(0, device='cuda:0'),\n",
       " tensor(0, device='cuda:0'),\n",
       " tensor(2, device='cuda:0'),\n",
       " tensor(1, device='cuda:0'),\n",
       " tensor(0, device='cuda:0'),\n",
       " tensor(2, device='cuda:0'),\n",
       " tensor(2, device='cuda:0'),\n",
       " tensor(0, device='cuda:0'),\n",
       " tensor(2, device='cuda:0'),\n",
       " tensor(0, device='cuda:0'),\n",
       " tensor(0, device='cuda:0'),\n",
       " tensor(0, device='cuda:0'),\n",
       " tensor(0, device='cuda:0'),\n",
       " tensor(0, device='cuda:0'),\n",
       " tensor(0, device='cuda:0'),\n",
       " tensor(2, device='cuda:0'),\n",
       " tensor(2, device='cuda:0'),\n",
       " tensor(0, device='cuda:0'),\n",
       " tensor(0, device='cuda:0'),\n",
       " tensor(2, device='cuda:0'),\n",
       " tensor(2, device='cuda:0'),\n",
       " tensor(0, device='cuda:0'),\n",
       " tensor(2, device='cuda:0'),\n",
       " tensor(2, device='cuda:0'),\n",
       " tensor(2, device='cuda:0'),\n",
       " tensor(2, device='cuda:0'),\n",
       " tensor(2, device='cuda:0'),\n",
       " tensor(2, device='cuda:0'),\n",
       " tensor(1, device='cuda:0'),\n",
       " tensor(0, device='cuda:0'),\n",
       " tensor(1, device='cuda:0'),\n",
       " tensor(2, device='cuda:0'),\n",
       " tensor(0, device='cuda:0'),\n",
       " tensor(0, device='cuda:0'),\n",
       " tensor(1, device='cuda:0'),\n",
       " tensor(1, device='cuda:0'),\n",
       " tensor(0, device='cuda:0'),\n",
       " tensor(1, device='cuda:0'),\n",
       " tensor(0, device='cuda:0'),\n",
       " tensor(0, device='cuda:0'),\n",
       " tensor(2, device='cuda:0'),\n",
       " tensor(1, device='cuda:0'),\n",
       " tensor(2, device='cuda:0'),\n",
       " tensor(1, device='cuda:0'),\n",
       " tensor(2, device='cuda:0'),\n",
       " tensor(2, device='cuda:0'),\n",
       " tensor(0, device='cuda:0'),\n",
       " tensor(0, device='cuda:0'),\n",
       " tensor(1, device='cuda:0'),\n",
       " tensor(2, device='cuda:0'),\n",
       " tensor(0, device='cuda:0'),\n",
       " tensor(0, device='cuda:0'),\n",
       " tensor(0, device='cuda:0'),\n",
       " tensor(0, device='cuda:0'),\n",
       " tensor(2, device='cuda:0'),\n",
       " tensor(2, device='cuda:0'),\n",
       " tensor(0, device='cuda:0'),\n",
       " tensor(0, device='cuda:0'),\n",
       " tensor(2, device='cuda:0'),\n",
       " tensor(1, device='cuda:0'),\n",
       " tensor(0, device='cuda:0'),\n",
       " tensor(0, device='cuda:0'),\n",
       " tensor(2, device='cuda:0'),\n",
       " tensor(0, device='cuda:0'),\n",
       " tensor(2, device='cuda:0'),\n",
       " tensor(1, device='cuda:0'),\n",
       " tensor(2, device='cuda:0'),\n",
       " tensor(2, device='cuda:0'),\n",
       " tensor(2, device='cuda:0'),\n",
       " tensor(2, device='cuda:0'),\n",
       " tensor(0, device='cuda:0'),\n",
       " tensor(2, device='cuda:0'),\n",
       " tensor(0, device='cuda:0'),\n",
       " tensor(0, device='cuda:0'),\n",
       " tensor(0, device='cuda:0'),\n",
       " tensor(1, device='cuda:0'),\n",
       " tensor(2, device='cuda:0'),\n",
       " tensor(1, device='cuda:0'),\n",
       " tensor(2, device='cuda:0'),\n",
       " tensor(1, device='cuda:0'),\n",
       " tensor(0, device='cuda:0'),\n",
       " tensor(0, device='cuda:0'),\n",
       " tensor(2, device='cuda:0'),\n",
       " tensor(2, device='cuda:0'),\n",
       " tensor(0, device='cuda:0'),\n",
       " tensor(0, device='cuda:0'),\n",
       " tensor(2, device='cuda:0'),\n",
       " tensor(2, device='cuda:0'),\n",
       " tensor(0, device='cuda:0'),\n",
       " tensor(1, device='cuda:0'),\n",
       " tensor(2, device='cuda:0'),\n",
       " tensor(2, device='cuda:0'),\n",
       " tensor(2, device='cuda:0'),\n",
       " tensor(1, device='cuda:0'),\n",
       " tensor(1, device='cuda:0'),\n",
       " tensor(2, device='cuda:0'),\n",
       " tensor(1, device='cuda:0'),\n",
       " tensor(0, device='cuda:0'),\n",
       " tensor(2, device='cuda:0'),\n",
       " tensor(2, device='cuda:0'),\n",
       " tensor(0, device='cuda:0'),\n",
       " tensor(0, device='cuda:0'),\n",
       " tensor(2, device='cuda:0'),\n",
       " tensor(1, device='cuda:0'),\n",
       " tensor(2, device='cuda:0'),\n",
       " tensor(2, device='cuda:0'),\n",
       " tensor(2, device='cuda:0'),\n",
       " tensor(0, device='cuda:0'),\n",
       " tensor(0, device='cuda:0'),\n",
       " tensor(0, device='cuda:0'),\n",
       " tensor(0, device='cuda:0'),\n",
       " tensor(2, device='cuda:0'),\n",
       " tensor(0, device='cuda:0'),\n",
       " tensor(2, device='cuda:0'),\n",
       " tensor(0, device='cuda:0'),\n",
       " tensor(2, device='cuda:0'),\n",
       " tensor(0, device='cuda:0'),\n",
       " tensor(1, device='cuda:0'),\n",
       " tensor(0, device='cuda:0'),\n",
       " tensor(0, device='cuda:0'),\n",
       " tensor(2, device='cuda:0'),\n",
       " tensor(2, device='cuda:0'),\n",
       " tensor(0, device='cuda:0'),\n",
       " tensor(1, device='cuda:0'),\n",
       " tensor(2, device='cuda:0'),\n",
       " tensor(1, device='cuda:0'),\n",
       " tensor(0, device='cuda:0'),\n",
       " tensor(0, device='cuda:0'),\n",
       " tensor(2, device='cuda:0'),\n",
       " tensor(0, device='cuda:0'),\n",
       " tensor(2, device='cuda:0'),\n",
       " tensor(1, device='cuda:0'),\n",
       " tensor(0, device='cuda:0'),\n",
       " tensor(2, device='cuda:0'),\n",
       " tensor(2, device='cuda:0'),\n",
       " tensor(0, device='cuda:0'),\n",
       " tensor(0, device='cuda:0'),\n",
       " tensor(2, device='cuda:0'),\n",
       " tensor(1, device='cuda:0'),\n",
       " tensor(2, device='cuda:0'),\n",
       " tensor(1, device='cuda:0'),\n",
       " tensor(2, device='cuda:0'),\n",
       " tensor(2, device='cuda:0'),\n",
       " tensor(1, device='cuda:0'),\n",
       " tensor(1, device='cuda:0'),\n",
       " tensor(0, device='cuda:0'),\n",
       " tensor(1, device='cuda:0'),\n",
       " tensor(0, device='cuda:0'),\n",
       " tensor(0, device='cuda:0'),\n",
       " tensor(1, device='cuda:0'),\n",
       " tensor(0, device='cuda:0'),\n",
       " tensor(0, device='cuda:0'),\n",
       " tensor(0, device='cuda:0'),\n",
       " tensor(2, device='cuda:0'),\n",
       " tensor(1, device='cuda:0'),\n",
       " tensor(1, device='cuda:0'),\n",
       " tensor(1, device='cuda:0'),\n",
       " tensor(0, device='cuda:0'),\n",
       " tensor(0, device='cuda:0'),\n",
       " tensor(0, device='cuda:0'),\n",
       " tensor(2, device='cuda:0'),\n",
       " tensor(0, device='cuda:0'),\n",
       " tensor(2, device='cuda:0'),\n",
       " tensor(0, device='cuda:0'),\n",
       " tensor(1, device='cuda:0'),\n",
       " tensor(0, device='cuda:0'),\n",
       " tensor(2, device='cuda:0'),\n",
       " tensor(0, device='cuda:0'),\n",
       " tensor(2, device='cuda:0'),\n",
       " tensor(0, device='cuda:0'),\n",
       " tensor(0, device='cuda:0'),\n",
       " tensor(1, device='cuda:0'),\n",
       " tensor(0, device='cuda:0'),\n",
       " tensor(2, device='cuda:0'),\n",
       " tensor(2, device='cuda:0'),\n",
       " tensor(2, device='cuda:0'),\n",
       " tensor(2, device='cuda:0'),\n",
       " tensor(2, device='cuda:0'),\n",
       " tensor(0, device='cuda:0'),\n",
       " tensor(0, device='cuda:0'),\n",
       " tensor(0, device='cuda:0'),\n",
       " tensor(0, device='cuda:0'),\n",
       " tensor(0, device='cuda:0'),\n",
       " tensor(0, device='cuda:0'),\n",
       " tensor(0, device='cuda:0'),\n",
       " tensor(2, device='cuda:0'),\n",
       " tensor(2, device='cuda:0'),\n",
       " tensor(2, device='cuda:0'),\n",
       " tensor(2, device='cuda:0'),\n",
       " tensor(2, device='cuda:0'),\n",
       " tensor(2, device='cuda:0'),\n",
       " tensor(2, device='cuda:0'),\n",
       " tensor(2, device='cuda:0'),\n",
       " tensor(2, device='cuda:0'),\n",
       " tensor(1, device='cuda:0'),\n",
       " tensor(0, device='cuda:0'),\n",
       " tensor(1, device='cuda:0'),\n",
       " tensor(2, device='cuda:0'),\n",
       " tensor(0, device='cuda:0'),\n",
       " tensor(2, device='cuda:0'),\n",
       " tensor(0, device='cuda:0'),\n",
       " tensor(0, device='cuda:0'),\n",
       " tensor(1, device='cuda:0'),\n",
       " tensor(0, device='cuda:0'),\n",
       " tensor(2, device='cuda:0'),\n",
       " tensor(0, device='cuda:0'),\n",
       " tensor(2, device='cuda:0'),\n",
       " tensor(0, device='cuda:0'),\n",
       " tensor(1, device='cuda:0'),\n",
       " tensor(0, device='cuda:0'),\n",
       " tensor(0, device='cuda:0'),\n",
       " tensor(1, device='cuda:0'),\n",
       " tensor(2, device='cuda:0'),\n",
       " tensor(2, device='cuda:0'),\n",
       " tensor(2, device='cuda:0'),\n",
       " tensor(2, device='cuda:0'),\n",
       " tensor(1, device='cuda:0'),\n",
       " tensor(0, device='cuda:0'),\n",
       " tensor(1, device='cuda:0'),\n",
       " tensor(1, device='cuda:0'),\n",
       " tensor(2, device='cuda:0'),\n",
       " tensor(2, device='cuda:0'),\n",
       " tensor(0, device='cuda:0'),\n",
       " tensor(0, device='cuda:0'),\n",
       " tensor(2, device='cuda:0'),\n",
       " tensor(0, device='cuda:0'),\n",
       " tensor(2, device='cuda:0'),\n",
       " tensor(2, device='cuda:0'),\n",
       " tensor(2, device='cuda:0'),\n",
       " tensor(1, device='cuda:0'),\n",
       " tensor(2, device='cuda:0'),\n",
       " tensor(0, device='cuda:0'),\n",
       " tensor(1, device='cuda:0'),\n",
       " tensor(2, device='cuda:0'),\n",
       " tensor(0, device='cuda:0'),\n",
       " tensor(2, device='cuda:0'),\n",
       " tensor(2, device='cuda:0'),\n",
       " tensor(1, device='cuda:0'),\n",
       " tensor(2, device='cuda:0'),\n",
       " tensor(0, device='cuda:0'),\n",
       " tensor(1, device='cuda:0'),\n",
       " tensor(2, device='cuda:0'),\n",
       " tensor(2, device='cuda:0'),\n",
       " tensor(0, device='cuda:0'),\n",
       " tensor(2, device='cuda:0'),\n",
       " tensor(1, device='cuda:0'),\n",
       " tensor(0, device='cuda:0'),\n",
       " tensor(1, device='cuda:0'),\n",
       " tensor(1, device='cuda:0'),\n",
       " tensor(0, device='cuda:0'),\n",
       " tensor(0, device='cuda:0'),\n",
       " tensor(0, device='cuda:0'),\n",
       " tensor(1, device='cuda:0'),\n",
       " tensor(2, device='cuda:0'),\n",
       " tensor(0, device='cuda:0'),\n",
       " tensor(1, device='cuda:0'),\n",
       " tensor(0, device='cuda:0'),\n",
       " tensor(0, device='cuda:0'),\n",
       " tensor(1, device='cuda:0'),\n",
       " tensor(0, device='cuda:0'),\n",
       " tensor(2, device='cuda:0'),\n",
       " tensor(1, device='cuda:0'),\n",
       " tensor(2, device='cuda:0'),\n",
       " tensor(0, device='cuda:0'),\n",
       " tensor(0, device='cuda:0'),\n",
       " tensor(0, device='cuda:0'),\n",
       " tensor(2, device='cuda:0'),\n",
       " tensor(2, device='cuda:0'),\n",
       " tensor(2, device='cuda:0'),\n",
       " tensor(0, device='cuda:0'),\n",
       " tensor(2, device='cuda:0'),\n",
       " tensor(0, device='cuda:0'),\n",
       " tensor(2, device='cuda:0'),\n",
       " tensor(2, device='cuda:0'),\n",
       " tensor(0, device='cuda:0'),\n",
       " tensor(2, device='cuda:0'),\n",
       " tensor(0, device='cuda:0'),\n",
       " tensor(0, device='cuda:0'),\n",
       " tensor(2, device='cuda:0'),\n",
       " tensor(2, device='cuda:0'),\n",
       " tensor(2, device='cuda:0'),\n",
       " tensor(0, device='cuda:0'),\n",
       " tensor(0, device='cuda:0'),\n",
       " tensor(2, device='cuda:0'),\n",
       " tensor(1, device='cuda:0'),\n",
       " tensor(0, device='cuda:0'),\n",
       " tensor(0, device='cuda:0'),\n",
       " tensor(0, device='cuda:0'),\n",
       " tensor(2, device='cuda:0'),\n",
       " tensor(2, device='cuda:0'),\n",
       " tensor(2, device='cuda:0'),\n",
       " tensor(0, device='cuda:0'),\n",
       " tensor(2, device='cuda:0'),\n",
       " tensor(2, device='cuda:0'),\n",
       " tensor(0, device='cuda:0'),\n",
       " tensor(0, device='cuda:0'),\n",
       " tensor(2, device='cuda:0'),\n",
       " tensor(2, device='cuda:0'),\n",
       " tensor(2, device='cuda:0'),\n",
       " tensor(0, device='cuda:0'),\n",
       " tensor(0, device='cuda:0'),\n",
       " tensor(0, device='cuda:0'),\n",
       " tensor(0, device='cuda:0'),\n",
       " tensor(1, device='cuda:0'),\n",
       " tensor(2, device='cuda:0'),\n",
       " tensor(0, device='cuda:0'),\n",
       " tensor(2, device='cuda:0'),\n",
       " tensor(0, device='cuda:0'),\n",
       " tensor(0, device='cuda:0'),\n",
       " tensor(2, device='cuda:0'),\n",
       " tensor(2, device='cuda:0'),\n",
       " tensor(0, device='cuda:0'),\n",
       " tensor(0, device='cuda:0'),\n",
       " tensor(2, device='cuda:0'),\n",
       " tensor(2, device='cuda:0'),\n",
       " tensor(2, device='cuda:0'),\n",
       " tensor(2, device='cuda:0'),\n",
       " tensor(1, device='cuda:0'),\n",
       " tensor(2, device='cuda:0'),\n",
       " tensor(0, device='cuda:0'),\n",
       " tensor(0, device='cuda:0'),\n",
       " tensor(0, device='cuda:0'),\n",
       " tensor(0, device='cuda:0'),\n",
       " tensor(0, device='cuda:0'),\n",
       " tensor(0, device='cuda:0'),\n",
       " tensor(2, device='cuda:0'),\n",
       " tensor(0, device='cuda:0'),\n",
       " tensor(1, device='cuda:0'),\n",
       " tensor(2, device='cuda:0'),\n",
       " tensor(2, device='cuda:0'),\n",
       " tensor(2, device='cuda:0'),\n",
       " tensor(0, device='cuda:0'),\n",
       " tensor(0, device='cuda:0'),\n",
       " tensor(2, device='cuda:0'),\n",
       " tensor(2, device='cuda:0'),\n",
       " tensor(2, device='cuda:0'),\n",
       " tensor(2, device='cuda:0'),\n",
       " tensor(2, device='cuda:0'),\n",
       " tensor(0, device='cuda:0'),\n",
       " tensor(2, device='cuda:0'),\n",
       " tensor(0, device='cuda:0'),\n",
       " tensor(0, device='cuda:0'),\n",
       " ...]"
      ]
     },
     "execution_count": 71,
     "metadata": {},
     "output_type": "execute_result"
    }
   ],
   "source": [
    "bert_predicted"
   ]
  },
  {
   "cell_type": "code",
   "execution_count": 72,
   "metadata": {},
   "outputs": [
    {
     "ename": "AttributeError",
     "evalue": "'list' object has no attribute 'cpu'",
     "output_type": "error",
     "traceback": [
      "\u001b[0;31m---------------------------------------------------------------------------\u001b[0m",
      "\u001b[0;31mAttributeError\u001b[0m                            Traceback (most recent call last)",
      "\u001b[0;32m/tmp/ipykernel_3962/2107489067.py\u001b[0m in \u001b[0;36m<module>\u001b[0;34m\u001b[0m\n\u001b[0;32m----> 1\u001b[0;31m \u001b[0mbert_predicted\u001b[0m \u001b[0;34m=\u001b[0m \u001b[0mnp\u001b[0m\u001b[0;34m.\u001b[0m\u001b[0marray\u001b[0m\u001b[0;34m(\u001b[0m\u001b[0mbert_predicted\u001b[0m\u001b[0;34m.\u001b[0m\u001b[0mcpu\u001b[0m\u001b[0;34m(\u001b[0m\u001b[0;34m)\u001b[0m\u001b[0;34m)\u001b[0m\u001b[0;34m\u001b[0m\u001b[0;34m\u001b[0m\u001b[0m\n\u001b[0m",
      "\u001b[0;31mAttributeError\u001b[0m: 'list' object has no attribute 'cpu'"
     ]
    }
   ],
   "source": [
    "bert_predicted = np.array(bert_predicted.cpu())"
   ]
  },
  {
   "cell_type": "code",
   "execution_count": null,
   "metadata": {},
   "outputs": [],
   "source": [
    "len(bert_predicted)"
   ]
  },
  {
   "cell_type": "code",
   "execution_count": null,
   "metadata": {},
   "outputs": [],
   "source": [
    "bert_predicted"
   ]
  },
  {
   "cell_type": "code",
   "execution_count": null,
   "metadata": {},
   "outputs": [],
   "source": [
    "y_test"
   ]
  },
  {
   "cell_type": "markdown",
   "metadata": {},
   "source": [
    "- Accuracy of classification"
   ]
  },
  {
   "cell_type": "code",
   "execution_count": 73,
   "metadata": {},
   "outputs": [],
   "source": [
    "correct_count = 0\n",
    "for i in range(len(bert_predicted)):\n",
    "    y = y_test[i].argmax()\n",
    "    \n",
    "    if bert_predicted[i].item() == y:\n",
    "        correct_count = correct_count + 1"
   ]
  },
  {
   "cell_type": "code",
   "execution_count": 74,
   "metadata": {},
   "outputs": [
    {
     "data": {
      "text/plain": [
       "0.5895833333333333"
      ]
     },
     "execution_count": 74,
     "metadata": {},
     "output_type": "execute_result"
    }
   ],
   "source": [
    "correct_count / len(bert_predicted)"
   ]
  },
  {
   "cell_type": "markdown",
   "metadata": {},
   "source": [
    "- Confusion matrix"
   ]
  },
  {
   "cell_type": "code",
   "execution_count": 75,
   "metadata": {},
   "outputs": [],
   "source": [
    "import numpy as np\n",
    "import matplotlib.pyplot as plt\n",
    "\n",
    "from sklearn.metrics import confusion_matrix\n",
    "from sklearn.utils.multiclass import unique_labels"
   ]
  },
  {
   "cell_type": "code",
   "execution_count": 76,
   "metadata": {},
   "outputs": [],
   "source": [
    "def plot_confusion_matrix(y_true, y_pred, classes,\n",
    "                          normalize=False,\n",
    "                          title=None,\n",
    "                          cmap=plt.cm.Blues):\n",
    "    \"\"\"\n",
    "    This function prints and plots the confusion matrix.\n",
    "    Normalization can be applied by setting `normalize=True`.\n",
    "    \"\"\"\n",
    "    if not title:\n",
    "        if normalize:\n",
    "            title = 'Normalized confusion matrix'\n",
    "        else:\n",
    "            title = 'Confusion matrix, without normalization'\n",
    "\n",
    "    # Compute confusion matrix\n",
    "    cm = confusion_matrix(y_true, y_pred)\n",
    "    # Only use the labels that appear in the data\n",
    "    classes = classes[unique_labels(y_true, y_pred)]\n",
    "    if normalize:\n",
    "        cm = cm.astype('float') / cm.sum(axis=1)[:, np.newaxis]\n",
    "        print(\"Normalized confusion matrix\")\n",
    "    else:\n",
    "        print('Confusion matrix, without normalization')\n",
    "\n",
    "    print(cm)\n",
    "\n",
    "    fig, ax = plt.subplots()\n",
    "    im = ax.imshow(cm, interpolation='nearest', cmap=cmap)\n",
    "    ax.figure.colorbar(im, ax=ax)\n",
    "    # We want to show all ticks...\n",
    "    ax.set(xticks=np.arange(cm.shape[1]),\n",
    "           yticks=np.arange(cm.shape[0]),\n",
    "           # ... and label them with the respective list entries\n",
    "           xticklabels=classes, yticklabels=classes,\n",
    "           title=title,\n",
    "           ylabel='True label',\n",
    "           xlabel='Predicted label')\n",
    "\n",
    "    # Rotate the tick labels and set their alignment.\n",
    "    plt.setp(ax.get_xticklabels(), rotation=45, ha=\"right\",\n",
    "             rotation_mode=\"anchor\")\n",
    "\n",
    "    # Loop over data dimensions and create text annotations.\n",
    "    fmt = '.2f' if normalize else 'd'\n",
    "    thresh = cm.max() / 2.\n",
    "    for i in range(cm.shape[0]):\n",
    "        for j in range(cm.shape[1]):\n",
    "            ax.text(j, i, format(cm[i, j], fmt),\n",
    "                    ha=\"center\", va=\"center\",\n",
    "                    color=\"white\" if cm[i, j] > thresh else \"black\")\n",
    "    fig.tight_layout()\n",
    "    return ax"
   ]
  },
  {
   "cell_type": "code",
   "execution_count": 77,
   "metadata": {},
   "outputs": [],
   "source": [
    "class_names = np.array(['B', 'E', 'T', 'M'])"
   ]
  },
  {
   "cell_type": "code",
   "execution_count": null,
   "metadata": {},
   "outputs": [],
   "source": [
    "confusion_matrix_predicted = [element.item() for element in bert_predicted.flatten()]"
   ]
  },
  {
   "cell_type": "code",
   "execution_count": null,
   "metadata": {},
   "outputs": [],
   "source": [
    "confusion_matrix_predicted"
   ]
  },
  {
   "cell_type": "code",
   "execution_count": null,
   "metadata": {},
   "outputs": [],
   "source": [
    "y_test.argmax(axis=1)"
   ]
  },
  {
   "cell_type": "code",
   "execution_count": null,
   "metadata": {
    "scrolled": true
   },
   "outputs": [],
   "source": [
    "# Plot normalized confusion matrix\n",
    "plot_confusion_matrix(y_test.argmax(axis=1), confusion_matrix_predicted, classes=class_names, normalize=True,\n",
    "                      title='Confusion Matrix')\n",
    "\n",
    "plt.show()"
   ]
  },
  {
   "cell_type": "code",
   "execution_count": null,
   "metadata": {},
   "outputs": [],
   "source": []
  }
 ],
 "metadata": {
  "kernelspec": {
   "display_name": "Python 3 (ipykernel)",
   "language": "python",
   "name": "python3"
  },
  "language_info": {
   "codemirror_mode": {
    "name": "ipython",
    "version": 3
   },
   "file_extension": ".py",
   "mimetype": "text/x-python",
   "name": "python",
   "nbconvert_exporter": "python",
   "pygments_lexer": "ipython3",
   "version": "3.7.13"
  }
 },
 "nbformat": 4,
 "nbformat_minor": 2
}
