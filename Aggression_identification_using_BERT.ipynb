{
 "cells": [
  {
   "cell_type": "markdown",
   "id": "4ea4e0da",
   "metadata": {},
   "source": [
    "## - Download Pytorch BERT"
   ]
  },
  {
   "cell_type": "code",
   "execution_count": 1,
   "id": "df95ea0d",
   "metadata": {},
   "outputs": [
    {
     "name": "stdout",
     "output_type": "stream",
     "text": [
      "Requirement already satisfied: pytorch_pretrained_bert in /opt/conda/lib/python3.7/site-packages (0.6.2)\n",
      "Requirement already satisfied: tqdm in /opt/conda/lib/python3.7/site-packages (from pytorch_pretrained_bert) (4.63.0)\n",
      "Requirement already satisfied: requests in /opt/conda/lib/python3.7/site-packages (from pytorch_pretrained_bert) (2.27.1)\n",
      "Requirement already satisfied: boto3 in /opt/conda/lib/python3.7/site-packages (from pytorch_pretrained_bert) (1.24.37)\n",
      "Requirement already satisfied: regex in /opt/conda/lib/python3.7/site-packages (from pytorch_pretrained_bert) (2022.7.25)\n",
      "Requirement already satisfied: numpy in /opt/conda/lib/python3.7/site-packages (from pytorch_pretrained_bert) (1.21.5)\n",
      "Requirement already satisfied: torch>=0.4.1 in /opt/conda/lib/python3.7/site-packages (from pytorch_pretrained_bert) (1.12.0)\n",
      "Requirement already satisfied: typing_extensions in /opt/conda/lib/python3.7/site-packages (from torch>=0.4.1->pytorch_pretrained_bert) (4.1.1)\n",
      "Requirement already satisfied: jmespath<2.0.0,>=0.7.1 in /opt/conda/lib/python3.7/site-packages (from boto3->pytorch_pretrained_bert) (1.0.1)\n",
      "Requirement already satisfied: s3transfer<0.7.0,>=0.6.0 in /opt/conda/lib/python3.7/site-packages (from boto3->pytorch_pretrained_bert) (0.6.0)\n",
      "Requirement already satisfied: botocore<1.28.0,>=1.27.37 in /opt/conda/lib/python3.7/site-packages (from boto3->pytorch_pretrained_bert) (1.27.37)\n",
      "Requirement already satisfied: urllib3<1.27,>=1.25.4 in /opt/conda/lib/python3.7/site-packages (from botocore<1.28.0,>=1.27.37->boto3->pytorch_pretrained_bert) (1.26.8)\n",
      "Requirement already satisfied: python-dateutil<3.0.0,>=2.1 in /opt/conda/lib/python3.7/site-packages (from botocore<1.28.0,>=1.27.37->boto3->pytorch_pretrained_bert) (2.8.2)\n",
      "Requirement already satisfied: six>=1.5 in /opt/conda/lib/python3.7/site-packages (from python-dateutil<3.0.0,>=2.1->botocore<1.28.0,>=1.27.37->boto3->pytorch_pretrained_bert) (1.16.0)\n",
      "Requirement already satisfied: certifi>=2017.4.17 in /opt/conda/lib/python3.7/site-packages (from requests->pytorch_pretrained_bert) (2022.6.15)\n",
      "Requirement already satisfied: idna<4,>=2.5 in /opt/conda/lib/python3.7/site-packages (from requests->pytorch_pretrained_bert) (3.3)\n",
      "Requirement already satisfied: charset-normalizer~=2.0.0 in /opt/conda/lib/python3.7/site-packages (from requests->pytorch_pretrained_bert) (2.0.4)\n",
      "\u001b[33mWARNING: Running pip as the 'root' user can result in broken permissions and conflicting behaviour with the system package manager. It is recommended to use a virtual environment instead: https://pip.pypa.io/warnings/venv\u001b[0m\n"
     ]
    }
   ],
   "source": [
    "!pip install pytorch_pretrained_bert"
   ]
  },
  {
   "cell_type": "markdown",
   "id": "c8ee0393",
   "metadata": {},
   "source": [
    "## - Import"
   ]
  },
  {
   "cell_type": "code",
   "execution_count": 2,
   "id": "8b4d7a00",
   "metadata": {},
   "outputs": [
    {
     "name": "stderr",
     "output_type": "stream",
     "text": [
      "2022-07-26 18:24:08.932441: W tensorflow/stream_executor/platform/default/dso_loader.cc:64] Could not load dynamic library 'libcudart.so.11.0'; dlerror: libcudart.so.11.0: cannot open shared object file: No such file or directory; LD_LIBRARY_PATH: /usr/local/nvidia/lib:/usr/local/nvidia/lib64\n",
      "2022-07-26 18:24:08.932464: I tensorflow/stream_executor/cuda/cudart_stub.cc:29] Ignore above cudart dlerror if you do not have a GPU set up on your machine.\n"
     ]
    }
   ],
   "source": [
    "import warnings\n",
    "warnings.filterwarnings('ignore')\n",
    "\n",
    "import sys\n",
    "import numpy as np\n",
    "import random as rnfv\n",
    "import pandas as pd\n",
    "\n",
    "from sklearn.utils.multiclass import unique_labels\n",
    "from tensorflow.keras.preprocessing.sequence import pad_sequences\n",
    "from keras.utils.np_utils import to_categorical\n",
    "\n",
    "import torch\n",
    "from torch import nn\n",
    "from torch.utils.data import TensorDataset, DataLoader, RandomSampler, SequentialSampler\n",
    "from torch.optim import Adam\n",
    "from torch.nn.utils import clip_grad_norm_\n",
    "from torch.utils.data import DataLoader, Dataset\n",
    "from torchsummary import summary\n",
    "from torch.nn.utils.rnn import pad_sequence\n",
    "from torch_snippets import *\n",
    "from torchmetrics import ConfusionMatrix, F1Score\n",
    "\n",
    "from pytorch_pretrained_bert import BertModel\n",
    "from pytorch_pretrained_bert import BertTokenizer"
   ]
  },
  {
   "cell_type": "markdown",
   "id": "af99bcda",
   "metadata": {},
   "source": [
    "## - Parameters"
   ]
  },
  {
   "cell_type": "code",
   "execution_count": 3,
   "id": "98591004",
   "metadata": {},
   "outputs": [
    {
     "name": "stdout",
     "output_type": "stream",
     "text": [
      "Train data path: ./data/trac-1/english/agr_en_train.csv\n",
      "Valid data path: ./data/trac-1/english/agr_en_dev.csv\n"
     ]
    }
   ],
   "source": [
    "# Data\n",
    "train_data_path = './data/trac-1/english/agr_en_train.csv' # Path of data\n",
    "valid_data_path = './data/trac-1/english/agr_en_dev.csv' # Path of data\n",
    "print('Train data path:', train_data_path)\n",
    "print('Valid data path:', valid_data_path)\n",
    "\n",
    "batch_size = 8  # Batch size\n",
    "\n",
    "# Preprocessing\n",
    "word_max_len = 64\n",
    "\n",
    "# Model\n",
    "h1 = 768\n",
    "h2 = 128\n",
    "drop_out_rate = 0.2\n",
    "\n",
    "# Training\n",
    "epochs = 20  # Train epochs\n",
    "learning_rate = 3e-6"
   ]
  },
  {
   "cell_type": "markdown",
   "id": "823d8443",
   "metadata": {},
   "source": [
    "## - Load Aggression Identification Dataset"
   ]
  },
  {
   "cell_type": "code",
   "execution_count": 4,
   "id": "b97fa666",
   "metadata": {},
   "outputs": [
    {
     "name": "stdout",
     "output_type": "stream",
     "text": [
      "Column of df: ['TEXT', 'AGGRESSION_CLASS']\n",
      "Size of data: 12000\n"
     ]
    },
    {
     "data": {
      "text/html": [
       "<div>\n",
       "<style scoped>\n",
       "    .dataframe tbody tr th:only-of-type {\n",
       "        vertical-align: middle;\n",
       "    }\n",
       "\n",
       "    .dataframe tbody tr th {\n",
       "        vertical-align: top;\n",
       "    }\n",
       "\n",
       "    .dataframe thead th {\n",
       "        text-align: right;\n",
       "    }\n",
       "</style>\n",
       "<table border=\"1\" class=\"dataframe\">\n",
       "  <thead>\n",
       "    <tr style=\"text-align: right;\">\n",
       "      <th></th>\n",
       "      <th>TEXT</th>\n",
       "      <th>AGGRESSION_CLASS</th>\n",
       "    </tr>\n",
       "  </thead>\n",
       "  <tbody>\n",
       "    <tr>\n",
       "      <th>0</th>\n",
       "      <td>Well said sonu..you have courage to stand agai...</td>\n",
       "      <td>OAG</td>\n",
       "    </tr>\n",
       "    <tr>\n",
       "      <th>1</th>\n",
       "      <td>Most of Private Banks ATM's Like HDFC, ICICI e...</td>\n",
       "      <td>NAG</td>\n",
       "    </tr>\n",
       "    <tr>\n",
       "      <th>2</th>\n",
       "      <td>Now question is, Pakistan will adhere to this?</td>\n",
       "      <td>OAG</td>\n",
       "    </tr>\n",
       "    <tr>\n",
       "      <th>3</th>\n",
       "      <td>Pakistan is comprised of fake muslims who does...</td>\n",
       "      <td>OAG</td>\n",
       "    </tr>\n",
       "    <tr>\n",
       "      <th>4</th>\n",
       "      <td>??we r against cow slaughter,so of course it w...</td>\n",
       "      <td>NAG</td>\n",
       "    </tr>\n",
       "  </tbody>\n",
       "</table>\n",
       "</div>"
      ],
      "text/plain": [
       "                                                TEXT AGGRESSION_CLASS\n",
       "0  Well said sonu..you have courage to stand agai...              OAG\n",
       "1  Most of Private Banks ATM's Like HDFC, ICICI e...              NAG\n",
       "2     Now question is, Pakistan will adhere to this?              OAG\n",
       "3  Pakistan is comprised of fake muslims who does...              OAG\n",
       "4  ??we r against cow slaughter,so of course it w...              NAG"
      ]
     },
     "execution_count": 4,
     "metadata": {},
     "output_type": "execute_result"
    }
   ],
   "source": [
    "# Train\n",
    "train_df = pd.read_csv(train_data_path, names = ['SOURCE', 'TEXT', 'AGGRESSION_CLASS'], \n",
    "                   usecols=['TEXT', 'AGGRESSION_CLASS'])\n",
    "print('Column of df:', list(train_df))\n",
    "print('Size of data:', len(train_df))\n",
    "train_df.head()"
   ]
  },
  {
   "cell_type": "code",
   "execution_count": 5,
   "id": "7edc7241",
   "metadata": {},
   "outputs": [
    {
     "name": "stdout",
     "output_type": "stream",
     "text": [
      "Column of df: ['TEXT', 'AGGRESSION_CLASS']\n",
      "Size of data: 3001\n"
     ]
    },
    {
     "data": {
      "text/html": [
       "<div>\n",
       "<style scoped>\n",
       "    .dataframe tbody tr th:only-of-type {\n",
       "        vertical-align: middle;\n",
       "    }\n",
       "\n",
       "    .dataframe tbody tr th {\n",
       "        vertical-align: top;\n",
       "    }\n",
       "\n",
       "    .dataframe thead th {\n",
       "        text-align: right;\n",
       "    }\n",
       "</style>\n",
       "<table border=\"1\" class=\"dataframe\">\n",
       "  <thead>\n",
       "    <tr style=\"text-align: right;\">\n",
       "      <th></th>\n",
       "      <th>TEXT</th>\n",
       "      <th>AGGRESSION_CLASS</th>\n",
       "    </tr>\n",
       "  </thead>\n",
       "  <tbody>\n",
       "    <tr>\n",
       "      <th>0</th>\n",
       "      <td>The quality of re made now makes me think it i...</td>\n",
       "      <td>CAG</td>\n",
       "    </tr>\n",
       "    <tr>\n",
       "      <th>1</th>\n",
       "      <td>@siva \\nHow is ur mother???\\nHow is ur wife???...</td>\n",
       "      <td>NAG</td>\n",
       "    </tr>\n",
       "    <tr>\n",
       "      <th>2</th>\n",
       "      <td>Also see ....hw ur RSS activist caught in Burk...</td>\n",
       "      <td>NAG</td>\n",
       "    </tr>\n",
       "    <tr>\n",
       "      <th>3</th>\n",
       "      <td>On the death of 2 jawans in LOC CROSS FIRING\\n...</td>\n",
       "      <td>NAG</td>\n",
       "    </tr>\n",
       "    <tr>\n",
       "      <th>4</th>\n",
       "      <td>Modi ho ya Manmohan singh saala yeh log kuch n...</td>\n",
       "      <td>OAG</td>\n",
       "    </tr>\n",
       "  </tbody>\n",
       "</table>\n",
       "</div>"
      ],
      "text/plain": [
       "                                                TEXT AGGRESSION_CLASS\n",
       "0  The quality of re made now makes me think it i...              CAG\n",
       "1  @siva \\nHow is ur mother???\\nHow is ur wife???...              NAG\n",
       "2  Also see ....hw ur RSS activist caught in Burk...              NAG\n",
       "3  On the death of 2 jawans in LOC CROSS FIRING\\n...              NAG\n",
       "4  Modi ho ya Manmohan singh saala yeh log kuch n...              OAG"
      ]
     },
     "execution_count": 5,
     "metadata": {},
     "output_type": "execute_result"
    }
   ],
   "source": [
    "valid_df = pd.read_csv(valid_data_path, names = ['SOURCE', 'TEXT', 'AGGRESSION_CLASS'], \n",
    "                   usecols=['TEXT', 'AGGRESSION_CLASS'])\n",
    "print('Column of df:', list(valid_df))\n",
    "print('Size of data:', len(valid_df))\n",
    "valid_df.head()"
   ]
  },
  {
   "cell_type": "markdown",
   "id": "11aed14b",
   "metadata": {},
   "source": [
    "## - Data Preprocessing"
   ]
  },
  {
   "cell_type": "code",
   "execution_count": 6,
   "id": "9a9d26a6",
   "metadata": {},
   "outputs": [],
   "source": [
    "# Shuffle data\n",
    "np.random.seed(41)\n",
    "train_shuffled = train_df.reindex(np.random.permutation(train_df.index))\n",
    "valid_shuffled = valid_df.reindex(np.random.permutation(valid_df.index))"
   ]
  },
  {
   "cell_type": "code",
   "execution_count": 7,
   "id": "13b299bf",
   "metadata": {},
   "outputs": [],
   "source": [
    "# Train\n",
    "CAG = train_shuffled[train_shuffled['AGGRESSION_CLASS'] == 'CAG']\n",
    "OAG = train_shuffled[train_shuffled['AGGRESSION_CLASS'] == 'OAG']\n",
    "NAG = train_shuffled[train_shuffled['AGGRESSION_CLASS'] == 'NAG']\n",
    "\n",
    "concated_train = pd.concat([CAG, OAG, NAG], ignore_index=True)\n",
    "concated_train['LABEL'] = 0\n",
    "\n",
    "# Class to idx\n",
    "concated_train.loc[concated_train['AGGRESSION_CLASS'] == 'CAG', 'LABEL'] = 0\n",
    "concated_train.loc[concated_train['AGGRESSION_CLASS'] == 'OAG', 'LABEL'] = 1\n",
    "concated_train.loc[concated_train['AGGRESSION_CLASS'] == 'NAG', 'LABEL'] = 2\n",
    "\n",
    "# Valid\n",
    "CAG = valid_shuffled[valid_shuffled['AGGRESSION_CLASS'] == 'CAG']\n",
    "OAG = valid_shuffled[valid_shuffled['AGGRESSION_CLASS'] == 'OAG']\n",
    "NAG = valid_shuffled[valid_shuffled['AGGRESSION_CLASS'] == 'NAG']\n",
    "\n",
    "concated_valid = pd.concat([CAG, OAG, NAG], ignore_index=True)\n",
    "concated_valid['LABEL'] = 0\n",
    "\n",
    "# Class to idx\n",
    "concated_valid.loc[concated_valid['AGGRESSION_CLASS'] == 'CAG', 'LABEL'] = 0\n",
    "concated_valid.loc[concated_valid['AGGRESSION_CLASS'] == 'OAG', 'LABEL'] = 1\n",
    "concated_valid.loc[concated_valid['AGGRESSION_CLASS'] == 'NAG', 'LABEL'] = 2"
   ]
  },
  {
   "cell_type": "code",
   "execution_count": 8,
   "id": "90e457f8",
   "metadata": {},
   "outputs": [
    {
     "data": {
      "text/plain": [
       "0    Why some people are against to every step of M...\n",
       "1    One thing i wonder about former RM LALU ji is ...\n",
       "2    A speech full of just superficial ideas. Mr. M...\n",
       "3    \"tough competition for Royal Enfield\"\\nRoyal E...\n",
       "4    why you guys are reporting to see us , where i...\n",
       "Name: TEXT, dtype: object"
      ]
     },
     "execution_count": 8,
     "metadata": {},
     "output_type": "execute_result"
    }
   ],
   "source": [
    "# X data\n",
    "X_train = concated_train['TEXT']\n",
    "X_valid = concated_valid['TEXT']\n",
    "in_features = len(list(X_train))\n",
    "X_train.head()"
   ]
  },
  {
   "cell_type": "code",
   "execution_count": 9,
   "id": "b6216308",
   "metadata": {},
   "outputs": [
    {
     "name": "stdout",
     "output_type": "stream",
     "text": [
      "Class list: ['CAG', 'OAG', 'NAG']\n",
      "Number of class: 3\n"
     ]
    }
   ],
   "source": [
    "# Class info\n",
    "class_list = ['CAG', 'OAG', 'NAG']\n",
    "print('Class list:', class_list)\n",
    "class_num = len(class_list)\n",
    "print('Number of class:', class_num)"
   ]
  },
  {
   "cell_type": "code",
   "execution_count": 10,
   "id": "2446c293",
   "metadata": {},
   "outputs": [
    {
     "data": {
      "text/plain": [
       "NAG    5052\n",
       "CAG    4240\n",
       "OAG    2708\n",
       "Name: AGGRESSION_CLASS, dtype: int64"
      ]
     },
     "execution_count": 10,
     "metadata": {},
     "output_type": "execute_result"
    }
   ],
   "source": [
    "train_shuffled['AGGRESSION_CLASS'].value_counts()"
   ]
  },
  {
   "cell_type": "code",
   "execution_count": 11,
   "id": "e87112db",
   "metadata": {},
   "outputs": [
    {
     "data": {
      "text/plain": [
       "NAG    1233\n",
       "CAG    1057\n",
       "OAG     711\n",
       "Name: AGGRESSION_CLASS, dtype: int64"
      ]
     },
     "execution_count": 11,
     "metadata": {},
     "output_type": "execute_result"
    }
   ],
   "source": [
    "valid_shuffled['AGGRESSION_CLASS'].value_counts()"
   ]
  },
  {
   "cell_type": "code",
   "execution_count": 12,
   "id": "7fabd89c",
   "metadata": {},
   "outputs": [
    {
     "name": "stdout",
     "output_type": "stream",
     "text": [
      "Size of train labels: (12000, 3)\n",
      "Size of valid labels: (3001, 3)\n"
     ]
    }
   ],
   "source": [
    "# one-hot encoding\n",
    "y_train = to_categorical(concated_train['LABEL'], num_classes=3)\n",
    "y_valid = to_categorical(concated_valid['LABEL'], num_classes=3)\n",
    "print('Size of train labels:', y_train.shape)\n",
    "print('Size of valid labels:', y_valid.shape)"
   ]
  },
  {
   "cell_type": "markdown",
   "id": "cdc483a4",
   "metadata": {},
   "source": [
    "## - Pytorch Dataset: Converting BERT Input"
   ]
  },
  {
   "cell_type": "code",
   "execution_count": 13,
   "id": "5bc34f93",
   "metadata": {},
   "outputs": [],
   "source": [
    "class BertData(Dataset):\n",
    "    def __init__(self, X, y, word_max_len):\n",
    "        super().__init__()\n",
    "        \n",
    "        self.X = X\n",
    "        self.y = y\n",
    "        \n",
    "        tokenizer = BertTokenizer.from_pretrained('bert-base-uncased', do_lower_case=True)\n",
    "        tokens = list(map(lambda t: ['[CLS]'] + tokenizer.tokenize(t) + ['[SEP]'], self.X))\n",
    "        self.tokens_ids = pad_sequences(list(map(tokenizer.convert_tokens_to_ids, tokens)), \n",
    "                                   maxlen=word_max_len, truncating=\"post\", padding=\"post\", dtype=\"int\")\n",
    "        self.masks = [[float(i > 0) for i in ii] for ii in self.tokens_ids]\n",
    "        \n",
    "        print('Token ids size:', self.tokens_ids.shape)\n",
    "        print('Masks size:', np.array(self.masks).shape)\n",
    "        print('y size:', np.array(self.y).shape)\n",
    "    \n",
    "    def __len__(self):\n",
    "        return len(self.X)\n",
    "    \n",
    "    def __getitem__(self, ind):\n",
    "        tokens_id = self.tokens_ids[ind]\n",
    "        label = self.y[ind]\n",
    "        mask = self.masks[ind]\n",
    "        return tokens_id, label, mask\n",
    "    \n",
    "    def collate_fn(self, data):\n",
    "        tokens_ids, labels, masks = zip(*data)\n",
    "        tokens_ids = torch.tensor(tokens_ids).to(device)\n",
    "        labels = torch.tensor(labels).float().to(device)\n",
    "        masks = torch.tensor(masks).to(device)\n",
    "        return tokens_ids, labels, masks\n",
    "    \n",
    "    def choose(self):\n",
    "        return self[np.random.randint(len(self))]"
   ]
  },
  {
   "cell_type": "code",
   "execution_count": 14,
   "id": "a6998dc7",
   "metadata": {},
   "outputs": [
    {
     "name": "stderr",
     "output_type": "stream",
     "text": [
      "100%|████████████████████████████████| 231508/231508 [00:00<00:00, 413377.27B/s]\n",
      "Token indices sequence length is longer than the specified maximum  sequence length for this BERT model (763 > 512). Running this sequence through BERT will result in indexing errors\n",
      "Token indices sequence length is longer than the specified maximum  sequence length for this BERT model (665 > 512). Running this sequence through BERT will result in indexing errors\n",
      "Token indices sequence length is longer than the specified maximum  sequence length for this BERT model (1164 > 512). Running this sequence through BERT will result in indexing errors\n",
      "Token indices sequence length is longer than the specified maximum  sequence length for this BERT model (1103 > 512). Running this sequence through BERT will result in indexing errors\n",
      "Token indices sequence length is longer than the specified maximum  sequence length for this BERT model (698 > 512). Running this sequence through BERT will result in indexing errors\n",
      "Token indices sequence length is longer than the specified maximum  sequence length for this BERT model (686 > 512). Running this sequence through BERT will result in indexing errors\n",
      "Token indices sequence length is longer than the specified maximum  sequence length for this BERT model (699 > 512). Running this sequence through BERT will result in indexing errors\n",
      "Token indices sequence length is longer than the specified maximum  sequence length for this BERT model (840 > 512). Running this sequence through BERT will result in indexing errors\n",
      "Token indices sequence length is longer than the specified maximum  sequence length for this BERT model (762 > 512). Running this sequence through BERT will result in indexing errors\n",
      "Token indices sequence length is longer than the specified maximum  sequence length for this BERT model (541 > 512). Running this sequence through BERT will result in indexing errors\n",
      "Token indices sequence length is longer than the specified maximum  sequence length for this BERT model (1651 > 512). Running this sequence through BERT will result in indexing errors\n",
      "Token indices sequence length is longer than the specified maximum  sequence length for this BERT model (642 > 512). Running this sequence through BERT will result in indexing errors\n",
      "Token indices sequence length is longer than the specified maximum  sequence length for this BERT model (787 > 512). Running this sequence through BERT will result in indexing errors\n",
      "Token indices sequence length is longer than the specified maximum  sequence length for this BERT model (782 > 512). Running this sequence through BERT will result in indexing errors\n",
      "Token indices sequence length is longer than the specified maximum  sequence length for this BERT model (724 > 512). Running this sequence through BERT will result in indexing errors\n",
      "Token indices sequence length is longer than the specified maximum  sequence length for this BERT model (593 > 512). Running this sequence through BERT will result in indexing errors\n",
      "Token indices sequence length is longer than the specified maximum  sequence length for this BERT model (1547 > 512). Running this sequence through BERT will result in indexing errors\n",
      "Token indices sequence length is longer than the specified maximum  sequence length for this BERT model (742 > 512). Running this sequence through BERT will result in indexing errors\n",
      "Token indices sequence length is longer than the specified maximum  sequence length for this BERT model (1147 > 512). Running this sequence through BERT will result in indexing errors\n",
      "Token indices sequence length is longer than the specified maximum  sequence length for this BERT model (611 > 512). Running this sequence through BERT will result in indexing errors\n",
      "Token indices sequence length is longer than the specified maximum  sequence length for this BERT model (616 > 512). Running this sequence through BERT will result in indexing errors\n",
      "Token indices sequence length is longer than the specified maximum  sequence length for this BERT model (598 > 512). Running this sequence through BERT will result in indexing errors\n",
      "Token indices sequence length is longer than the specified maximum  sequence length for this BERT model (602 > 512). Running this sequence through BERT will result in indexing errors\n",
      "Token indices sequence length is longer than the specified maximum  sequence length for this BERT model (786 > 512). Running this sequence through BERT will result in indexing errors\n"
     ]
    },
    {
     "name": "stdout",
     "output_type": "stream",
     "text": [
      "Token ids size: (12000, 64)\n",
      "Masks size: (12000, 64)\n",
      "y size: (12000, 3)\n"
     ]
    },
    {
     "name": "stderr",
     "output_type": "stream",
     "text": [
      "Token indices sequence length is longer than the specified maximum  sequence length for this BERT model (599 > 512). Running this sequence through BERT will result in indexing errors\n",
      "Token indices sequence length is longer than the specified maximum  sequence length for this BERT model (557 > 512). Running this sequence through BERT will result in indexing errors\n"
     ]
    },
    {
     "name": "stdout",
     "output_type": "stream",
     "text": [
      "Token ids size: (3001, 64)\n",
      "Masks size: (3001, 64)\n",
      "y size: (3001, 3)\n"
     ]
    }
   ],
   "source": [
    "# Train\n",
    "train_dataset = BertData(X_train, y_train, word_max_len)\n",
    "train_sampler = RandomSampler(train_dataset)\n",
    "train_dataloader = DataLoader(train_dataset, sampler=train_sampler, batch_size=batch_size,\n",
    "                      collate_fn=train_dataset.collate_fn)\n",
    "\n",
    "# Valid\n",
    "validate_dataset = BertData(X_valid, y_valid, word_max_len)\n",
    "validate_sampler = SequentialSampler(validate_dataset)\n",
    "validate_dataloader = DataLoader(validate_dataset, sampler=validate_sampler, batch_size=batch_size,\n",
    "                    collate_fn=validate_dataset.collate_fn)"
   ]
  },
  {
   "cell_type": "code",
   "execution_count": 15,
   "id": "a22b9764",
   "metadata": {},
   "outputs": [
    {
     "name": "stdout",
     "output_type": "stream",
     "text": [
      "==================================================================\n",
      "TOKENS_IDS:\n",
      "Tensor\tShape: torch.Size([8, 64])\tMin: 0.000\tMax: 29336.000\tMean: 2012.516\tdtype: torch.int64 @ cuda:0\n",
      "==================================================================\n",
      "LABELS:\n",
      "Tensor\tShape: torch.Size([8, 3])\tMin: 0.000\tMax: 1.000\tMean: 0.333\tdtype: torch.float32 @ cuda:0\n",
      "==================================================================\n",
      "MASKS:\n",
      "Tensor\tShape: torch.Size([8, 64])\tMin: 0.000\tMax: 1.000\tMean: 0.430\tdtype: torch.float32 @ cuda:0\n",
      "==================================================================\n"
     ]
    }
   ],
   "source": [
    "inspect(*next(iter(train_dataloader)), names='tokens_ids, labels, masks')"
   ]
  },
  {
   "cell_type": "markdown",
   "id": "606ec18d",
   "metadata": {},
   "source": [
    "## - BERT-Based Aggression Identification Model"
   ]
  },
  {
   "cell_type": "code",
   "execution_count": 16,
   "id": "c671bda1",
   "metadata": {},
   "outputs": [],
   "source": [
    "class Bert_Aggression_Identification_Model(nn.Module):\n",
    "    def __init__(self, h1, h2, class_num, drop_out_rate):\n",
    "        super(Bert_Aggression_Identification_Model, self).__init__()\n",
    "\n",
    "        self.bert = BertModel.from_pretrained('bert-base-uncased')\n",
    "\n",
    "        self.dropout = nn.Dropout(drop_out_rate)\n",
    "        self.linear1 = nn.Linear(h1, h2)\n",
    "        self.linear2 = nn.Linear(h2, class_num)\n",
    "        self.relu = nn.ReLU()\n",
    "        self.softmax = nn.Softmax()\n",
    "    \n",
    "    def forward(self, tokens, masks):\n",
    "        _, pooled_output = self.bert(tokens, attention_mask=masks, output_all_encoded_layers=False)\n",
    "        d = self.dropout(pooled_output)\n",
    "        x = self.relu(self.linear1(d))\n",
    "        proba = self.softmax(self.linear2(x))\n",
    "        \n",
    "        return proba"
   ]
  },
  {
   "cell_type": "markdown",
   "id": "a100b283",
   "metadata": {},
   "source": [
    "## - Train & Valid"
   ]
  },
  {
   "cell_type": "code",
   "execution_count": 17,
   "id": "b6f56793",
   "metadata": {},
   "outputs": [],
   "source": [
    "def train(data, model, optimizer, loss_fn):\n",
    "    \n",
    "    # Set train\n",
    "    model.train()\n",
    "    \n",
    "    # Get batch data\n",
    "    tokens_ids, labels, masks = data\n",
    "    \n",
    "    # Inference\n",
    "    outputs = model(tokens_ids, masks)\n",
    "    \n",
    "    # Get loss\n",
    "    loss = loss_fn(outputs, labels)\n",
    "    \n",
    "    # Get class\n",
    "    preds = outputs.argmax(-1)\n",
    "    labels = labels.argmax(-1)\n",
    "    \n",
    "    acc = (sum(preds==labels) / len(labels))\n",
    "    \n",
    "    # Init gradient\n",
    "    model.zero_grad()\n",
    "    \n",
    "    # Backword propagation\n",
    "    loss.backward()\n",
    "    \n",
    "    # Optimization \n",
    "    optimizer.step()\n",
    "    \n",
    "    return loss, acc"
   ]
  },
  {
   "cell_type": "code",
   "execution_count": 18,
   "id": "548e2bf1",
   "metadata": {},
   "outputs": [],
   "source": [
    "@torch.no_grad()\n",
    "def validate(data, model, loss_fn):\n",
    "    \n",
    "    # Set valid\n",
    "    model.eval()\n",
    "    \n",
    "    # Get batch data\n",
    "    tokens_ids, labels, masks = data\n",
    "    \n",
    "    # Inference\n",
    "    outputs = model(tokens_ids, masks)\n",
    "    \n",
    "    # Get loss\n",
    "    loss = loss_fn(outputs, labels)\n",
    "    \n",
    "    # Get class\n",
    "    preds = outputs.argmax(-1)\n",
    "    labels = labels.argmax(-1)\n",
    "    \n",
    "    acc = (sum(preds==labels) / len(labels))\n",
    "    \n",
    "    total_predict.extend(list(preds.cpu().numpy()))\n",
    "    total_label.extend(list(labels.cpu().numpy()))\n",
    "    \n",
    "    return loss, acc"
   ]
  },
  {
   "cell_type": "code",
   "execution_count": 19,
   "id": "3e872288",
   "metadata": {},
   "outputs": [
    {
     "name": "stderr",
     "output_type": "stream",
     "text": [
      "100%|█████████████████████████| 407873900/407873900 [00:58<00:00, 6975378.07B/s]\n"
     ]
    }
   ],
   "source": [
    "log = Report(epochs)\n",
    "\n",
    "# Convert to cuda\n",
    "model = Bert_Aggression_Identification_Model(h1, h2, class_num, drop_out_rate).to(device)\n",
    "\n",
    "# Loss function\n",
    "loss_fn = nn.CrossEntropyLoss()\n",
    "\n",
    "# Optimizer\n",
    "optimizer = optim.Adam(model.parameters(), lr=learning_rate)\n",
    "\n",
    "# Gradient sceduler\n",
    "scheduler = optim.lr_scheduler.StepLR(optimizer, step_size=10, gamma=0.5)"
   ]
  },
  {
   "cell_type": "code",
   "execution_count": 20,
   "id": "804445e0",
   "metadata": {},
   "outputs": [
    {
     "name": "stdout",
     "output_type": "stream",
     "text": [
      "EPOCH: 1.000\ttrain_loss: 1.040\ttrain_acc: 0.475\tval_loss: 0.977\tval_acc: 0.572\t(140.49s - 2669.33s remaining)\n",
      "EPOCH: 2.000\ttrain_loss: 0.949\ttrain_acc: 0.593\tval_loss: 0.935\tval_acc: 0.603\t(217.01s - 1953.07s remaining)\n",
      "EPOCH: 3.000\ttrain_loss: 0.901\ttrain_acc: 0.645\tval_loss: 0.919\tval_acc: 0.619\t(294.27s - 1667.56s remaining)\n",
      "EPOCH: 4.000\ttrain_loss: 0.858\ttrain_acc: 0.691\tval_loss: 0.917\tval_acc: 0.620\t(373.18s - 1492.72s remaining)\n",
      "EPOCH: 5.000\ttrain_loss: 0.828\ttrain_acc: 0.723\tval_loss: 0.916\tval_acc: 0.626\t(450.41s - 1351.23s remaining)\n",
      "EPOCH: 6.000\ttrain_loss: 0.805\ttrain_acc: 0.745\tval_loss: 0.918\tval_acc: 0.624\t(528.57s - 1233.34s remaining)\n",
      "EPOCH: 7.000\ttrain_loss: 0.783\ttrain_acc: 0.766\tval_loss: 0.916\tval_acc: 0.627\t(606.31s - 1126.00s remaining)\n",
      "EPOCH: 8.000\ttrain_loss: 0.767\ttrain_acc: 0.783\tval_loss: 0.924\tval_acc: 0.620\t(685.16s - 1027.73s remaining)\n",
      "EPOCH: 9.000\ttrain_loss: 0.756\ttrain_acc: 0.794\tval_loss: 0.925\tval_acc: 0.616\t(762.92s - 932.46s remaining)\n",
      "EPOCH: 10.000\ttrain_loss: 0.747\ttrain_acc: 0.803\tval_loss: 0.925\tval_acc: 0.620\t(841.83s - 841.83s remaining)\n",
      "EPOCH: 11.000\ttrain_loss: 0.732\ttrain_acc: 0.819\tval_loss: 0.924\tval_acc: 0.621\t(928.10s - 759.35s remaining)\n",
      "EPOCH: 12.000\ttrain_loss: 0.724\ttrain_acc: 0.825\tval_loss: 0.928\tval_acc: 0.614\t(1014.03s - 676.02s remaining)\n",
      "EPOCH: 13.000\ttrain_loss: 0.723\ttrain_acc: 0.827\tval_loss: 0.921\tval_acc: 0.623\t(1103.24s - 594.05s remaining)\n",
      "EPOCH: 14.000\ttrain_loss: 0.717\ttrain_acc: 0.834\tval_loss: 0.924\tval_acc: 0.620\t(1192.16s - 510.92s remaining)\n",
      "EPOCH: 15.000\ttrain_loss: 0.712\ttrain_acc: 0.839\tval_loss: 0.927\tval_acc: 0.619\t(1273.26s - 424.42s remaining)\n",
      "EPOCH: 16.000\ttrain_loss: 0.709\ttrain_acc: 0.843\tval_loss: 0.926\tval_acc: 0.617\t(1360.03s - 340.01s remaining)\n",
      "EPOCH: 17.000\ttrain_loss: 0.706\ttrain_acc: 0.844\tval_loss: 0.921\tval_acc: 0.624\t(1450.55s - 255.98s remaining)\n",
      "EPOCH: 18.000\ttrain_loss: 0.703\ttrain_acc: 0.848\tval_loss: 0.927\tval_acc: 0.615\t(1539.49s - 171.05s remaining)\n",
      "EPOCH: 19.000\ttrain_loss: 0.702\ttrain_acc: 0.850\tval_loss: 0.927\tval_acc: 0.618\t(1623.52s - 85.45s remaining)\n",
      "EPOCH: 20.000\ttrain_loss: 0.699\ttrain_acc: 0.851\tval_loss: 0.926\tval_acc: 0.620\t(1698.43s - 0.00s remaining)\n"
     ]
    }
   ],
   "source": [
    "for epoch in range(epochs):\n",
    "    n_batch = len(train_dataloader)\n",
    "    for i, data in enumerate(train_dataloader):\n",
    "        train_loss, train_acc = train(data, model, \n",
    "                                      optimizer, loss_fn)\n",
    "        pos = epoch + ((i+1)/n_batch)\n",
    "        log.record(pos=pos, train_loss=train_loss, \n",
    "                   train_acc=train_acc, end='\\r')\n",
    "        \n",
    "    total_predict = []\n",
    "    total_label = []\n",
    "\n",
    "    n_batch = len(validate_dataloader)\n",
    "    for i, data in enumerate(validate_dataloader):\n",
    "        val_loss, val_acc = validate(data, model, loss_fn)\n",
    "        pos = epoch + ((i+1)/n_batch)\n",
    "        log.record(pos=pos, val_loss=val_loss, val_acc=val_acc, \n",
    "                   end='\\r')\n",
    "    \n",
    "    scheduler.step()\n",
    "    log.report_avgs(epoch+1)"
   ]
  },
  {
   "cell_type": "code",
   "execution_count": 21,
   "id": "102142d4",
   "metadata": {},
   "outputs": [
    {
     "name": "stderr",
     "output_type": "stream",
     "text": [
      "100%|████████████████████████████████████████| 121/121 [00:00<00:00, 168.66it/s]\n"
     ]
    },
    {
     "data": {
      "image/png": "[encoded data removed]",
      "text/plain": [
       "<Figure size 576x432 with 1 Axes>"
      ]
     },
     "metadata": {
      "needs_background": "light"
     },
     "output_type": "display_data"
    }
   ],
   "source": [
    "log.plot_epochs(['train_loss', 'val_loss']) "
   ]
  },
  {
   "cell_type": "code",
   "execution_count": 22,
   "id": "7a377d39",
   "metadata": {},
   "outputs": [
    {
     "name": "stderr",
     "output_type": "stream",
     "text": [
      "100%|████████████████████████████████████████| 121/121 [00:00<00:00, 168.37it/s]\n"
     ]
    },
    {
     "data": {
      "image/png": "[encoded data removed]",
      "text/plain": [
       "<Figure size 576x432 with 1 Axes>"
      ]
     },
     "metadata": {
      "needs_background": "light"
     },
     "output_type": "display_data"
    }
   ],
   "source": [
    "log.plot_epochs(['train_acc', 'val_acc'])"
   ]
  },
  {
   "cell_type": "markdown",
   "id": "2379a2db",
   "metadata": {},
   "source": [
    "## - F1 Score & Confusion Matrix"
   ]
  },
  {
   "cell_type": "code",
   "execution_count": 23,
   "id": "48c9f3c1",
   "metadata": {},
   "outputs": [],
   "source": [
    "def plot_confusion_matrix(y_true, y_pred, class_list,\n",
    "                          normalize=False,\n",
    "                          title=None,\n",
    "                          cmap=plt.cm.Blues):\n",
    "    \"\"\"\n",
    "    This function prints and plots the confusion matrix.\n",
    "    Normalization can be applied by setting `normalize=True`.\n",
    "    \"\"\"\n",
    "    if not title:\n",
    "        if normalize:\n",
    "            title = 'Normalized confusion matrix'\n",
    "        else:\n",
    "            title = 'Confusion matrix, without normalization'\n",
    "\n",
    "    # Compute confusion matrix\n",
    "    confmat = ConfusionMatrix(num_classes=len(class_list))\n",
    "    cm = confmat(torch.tensor(y_pred), torch.tensor(y_true)).cpu().numpy()\n",
    "    \n",
    "    if normalize:\n",
    "        cm = cm.astype('float') / cm.sum(axis=1)[:, np.newaxis]\n",
    "        print(\"Normalized confusion matrix\")\n",
    "    else:\n",
    "        print('Confusion matrix, without normalization')\n",
    "\n",
    "    print(cm)\n",
    "\n",
    "    fig, ax = plt.subplots()\n",
    "    im = ax.imshow(cm, interpolation='nearest', cmap=cmap)\n",
    "    ax.figure.colorbar(im, ax=ax)\n",
    "    # We want to show all ticks...\n",
    "    ax.set(xticks=np.arange(cm.shape[1]),\n",
    "           yticks=np.arange(cm.shape[0]),\n",
    "           # ... and label them with the respective list entries\n",
    "           xticklabels=class_list, yticklabels=class_list,\n",
    "           title=title,\n",
    "           ylabel='True label',\n",
    "           xlabel='Predicted label')\n",
    "\n",
    "    # Rotate the tick labels and set their alignment.\n",
    "    plt.setp(ax.get_xticklabels(), rotation=45, ha=\"right\",\n",
    "             rotation_mode=\"anchor\")\n",
    "\n",
    "    # Loop over data dimensions and create text annotations.\n",
    "    fmt = '.2f' if normalize else 'd'\n",
    "    thresh = cm.max() / 2.\n",
    "    for i in range(cm.shape[0]):\n",
    "        for j in range(cm.shape[1]):\n",
    "            ax.text(j, i, format(cm[i, j], fmt),\n",
    "                    ha=\"center\", va=\"center\",\n",
    "                    color=\"white\" if cm[i, j] > thresh else \"black\")\n",
    "    fig.tight_layout()\n",
    "    return ax"
   ]
  },
  {
   "cell_type": "code",
   "execution_count": 24,
   "id": "ee76f25e",
   "metadata": {},
   "outputs": [
    {
     "data": {
      "text/plain": [
       "(3001, 3001)"
      ]
     },
     "execution_count": 24,
     "metadata": {},
     "output_type": "execute_result"
    }
   ],
   "source": [
    "len(total_label), len(total_predict)"
   ]
  },
  {
   "cell_type": "code",
   "execution_count": 25,
   "id": "3513e3a0",
   "metadata": {},
   "outputs": [
    {
     "name": "stdout",
     "output_type": "stream",
     "text": [
      "F1 scores: tensor(0.6188)\n"
     ]
    }
   ],
   "source": [
    "# F1 score\n",
    "f1 = F1Score(num_classes=len(class_list))\n",
    "print('F1 scores:', f1(torch.tensor(total_label), torch.tensor(total_predict)))"
   ]
  },
  {
   "cell_type": "code",
   "execution_count": 26,
   "id": "df84df1c",
   "metadata": {},
   "outputs": [
    {
     "name": "stdout",
     "output_type": "stream",
     "text": [
      "Confusion matrix, without normalization\n",
      "[[529 249 279]\n",
      " [194 434  83]\n",
      " [249  90 894]]\n"
     ]
    },
    {
     "data": {
      "text/plain": [
       "<AxesSubplot:title={'center':'Confusion Matrix'}, xlabel='Predicted label', ylabel='True label'>"
      ]
     },
     "execution_count": 26,
     "metadata": {},
     "output_type": "execute_result"
    },
    {
     "data": {
      "image/png": "[encoded data removed]",
      "text/plain": [
       "<Figure size 432x288 with 2 Axes>"
      ]
     },
     "metadata": {
      "needs_background": "light"
     },
     "output_type": "display_data"
    }
   ],
   "source": [
    "# Confusion Matrix\n",
    "plot_confusion_matrix(np.array(total_label), np.array(total_predict), class_list=class_list, normalize=False,\n",
    "                      title='Confusion Matrix')"
   ]
  },
  {
   "cell_type": "code",
   "execution_count": null,
   "id": "ac0eeb0f",
   "metadata": {},
   "outputs": [],
   "source": []
  }
 ],
 "metadata": {
  "kernelspec": {
   "display_name": "Python 3 (ipykernel)",
   "language": "python",
   "name": "python3"
  },
  "language_info": {
   "codemirror_mode": {
    "name": "ipython",
    "version": 3
   },
   "file_extension": ".py",
   "mimetype": "text/x-python",
   "name": "python",
   "nbconvert_exporter": "python",
   "pygments_lexer": "ipython3",
   "version": "3.7.13"
  }
 },
 "nbformat": 4,
 "nbformat_minor": 5
}
